{
  "nbformat": 4,
  "nbformat_minor": 0,
  "metadata": {
    "accelerator": "GPU",
    "colab": {
      "name": "Homework4-SVM_and_PCA-STUDENT.ipynb",
      "provenance": [],
      "collapsed_sections": []
    },
    "kernelspec": {
      "display_name": "Python 3",
      "language": "python",
      "name": "python3"
    },
    "language_info": {
      "codemirror_mode": {
        "name": "ipython",
        "version": 3
      },
      "file_extension": ".py",
      "mimetype": "text/x-python",
      "name": "python",
      "nbconvert_exporter": "python",
      "pygments_lexer": "ipython3",
      "version": "3.8.3"
    }
  },
  "cells": [
    {
      "cell_type": "markdown",
      "metadata": {
        "id": "qkIQEsNWTlMu"
      },
      "source": [
        "# CMSE 202 Homework 4 (Individual)\n",
        "\n",
        "## Using SVM and PCA to predict the outcome of chess games\n",
        "\n",
        "### Goals for this homework assignment\n",
        "\n",
        "By the end of this assignment, you should be able to:\n",
        "\n",
        "* Use `git` to track your work and turn in your assignment\n",
        "* Read and impute data to prepare it for modeling\n",
        "* Build, fit, and evaluate an SVC model of data\n",
        "* Use PCA to reduce the number of important features\n",
        "* Build, fit, and evaluate an SVC model of pca transformed data\n",
        "* Systematically investigate the effects of the number of components on an SVC model of data\n",
        "\n",
        "\n",
        "### Assignment instructions:\n",
        "\n",
        "Work through the following assignment, making sure to follow all of the directions and answer all of the questions.\n",
        "\n",
        "There are 25 points possible on this assignment. Point values for each part are included in the section headers.\n",
        "\n",
        "This assignment is due at 11:59 pm on Friday, November 13th. It should be pushed to your repo (See Part 1). "
      ]
    },
    {
      "cell_type": "code",
      "metadata": {
        "id": "LNqacSCPTlMv"
      },
      "source": [
        "## Our imports\n",
        "import numpy as np\n",
        "import pandas as pd\n",
        "import matplotlib.pylab as plt\n",
        "from sklearn.model_selection import train_test_split\n",
        "from sklearn.model_selection import GridSearchCV\n",
        "from sklearn.metrics import classification_report\n",
        "from sklearn.metrics import confusion_matrix, accuracy_score\n",
        "from sklearn.svm import SVC\n",
        "from sklearn.decomposition import PCA"
      ],
      "execution_count": 34,
      "outputs": []
    },
    {
      "cell_type": "markdown",
      "metadata": {
        "id": "yqAvvBAtTlMy"
      },
      "source": [
        "---\n",
        "## 1. Adding notebook to your turn-in repository\n",
        "\n",
        "Like you did for Homework 3, you're going to add it to the CMSE202 repository you created in class so that you can track your progress on the assignment and preserve the final version that you turn in. In order to do this you need to:\n",
        "\n",
        "* Navigate to your /CMSE202/repos repository and create a new directory called hw-04.\n",
        "* Move this notebook into that new directory in your repository, then add it and commit it to your repository.\n",
        "   * Finally, to test that everything is working, \"git push\" the file so that it ends up in your GitHub repository.\n",
        "\n",
        "Important: Make sure you've added your TA as a collaborators to your respository with \"Read\" access so that we can see your assignment. (*If you did this for Homework 3, you do not need to do it again*)\n",
        "\n",
        "* Section 001: tuethan\n",
        "* Section 002: Luis-Polanco\n",
        "* Section 003: DavidRimel\n",
        "\n",
        "Also important: Make sure that the version of this notebook that you are working on is the same one that you just added to your repository! If you are working on a different copy of the notebook, none of your changes will be tracked.\n",
        "\n",
        "If everything went as intended, the file should now show up on your GitHub account CMSE202 repository under the hw-04 directory that you just created. Periodically, you'll be asked to commit your changes to the repository and push them to the remote GitHub location. Of course, you can always commit your changes more often than that, if you wish. It can be good to get into a habit of committing your changes any time you make a significant modification, or when you stop working on the project for a bit."
      ]
    },
    {
      "cell_type": "markdown",
      "metadata": {
        "id": "bEdtxysMTlMz"
      },
      "source": [
        "---\n",
        "## 2. Chess Game Data\n",
        "\n",
        "The data you will work are configurations of a chess end game. It assumes that a pawn is one move away from [\"queening\"](https://en.wikipedia.org/wiki/Promotion_(chess)) and \n",
        "the other pieces can be moved to perform different offensive or defensive actions. For each of the 36 potential features, there are several potential values for each (entries in a given column). **The details of the data matter a bit less for our purposes, but we are attempting to predict the won/loss by a given side.** If you really want to know about the data, you can look into a [classic text on Artificial Intelligence by Shapiro](https://www.amazon.com/Encyclopedia-Artificial-Intelligence-Stuart-Shapiro/dp/0471807486).\n",
        "\n",
        "You will first do this with a full model, then investigate how well the model works after a PCA has been done on the data.\n",
        "\n",
        "### 2.1 Read in the data\n",
        "\n",
        "First you need to read in the data from `kr-vs-kp.data`. You can look at `kr-vs-kp.names` to see how the data is structured. But we give you the code for the column naming as there are so many features and they are unlabeled in the `.data` file.\n",
        "\n",
        "```cols = [\"bkblk\",\"bknwy\",\"bkon8\",\"bkona\",\"bkspr\",\"bkxbq\",\"bkxcr\",\"bkxwp\",\"blxwp\",\"bxqsq\",\"cntxt\",\"dsopp\",\"dwipd\",\n",
        " \"hdchk\",\"katri\",\"mulch\",\"qxmsq\",\"r2ar8\",\"reskd\",\"reskr\",\"rimmx\",\"rkxwp\",\"rxmsq\",\"simpl\",\"skach\",\"skewr\",\n",
        " \"skrxp\",\"spcop\",\"stlmt\",\"thrsk\",\"wkcti\",\"wkna8\",\"wknck\",\"wkovl\",\"wkpos\",\"wtoeg\",\"won\"]```\n",
        " \n",
        "<font size=8 color=\"#009600\">&#9998;</font> Do this - Read in the data from `kr-vs-kp.data` using the columns listed above. Print the `.head()` of the dataframe."
      ]
    },
    {
      "cell_type": "code",
      "metadata": {
        "id": "nHZEQk55TlM0",
        "outputId": "dbee0a7d-d6ea-43b0-fd0c-d44008b5759d",
        "colab": {
          "base_uri": "https://localhost:8080/",
          "height": 224
        }
      },
      "source": [
        "data = pd.read_csv('kr-vs-kp.data')\n",
        "data.columns = [\"bkblk\",\"bknwy\",\"bkon8\",\"bkona\",\"bkspr\",\"bkxbq\",\"bkxcr\",\"bkxwp\",\"blxwp\",\"bxqsq\",\"cntxt\",\"dsopp\",\"dwipd\", \"hdchk\",\"katri\",\"mulch\",\"qxmsq\",\"r2ar8\",\"reskd\",\"reskr\",\"rimmx\",\"rkxwp\",\"rxmsq\",\"simpl\",\"skach\",\"skewr\", \"skrxp\",\"spcop\",\"stlmt\",\"thrsk\",\"wkcti\",\"wkna8\",\"wknck\",\"wkovl\",\"wkpos\",\"wtoeg\",\"won\"]\n",
        "data.head()"
      ],
      "execution_count": 70,
      "outputs": [
        {
          "output_type": "execute_result",
          "data": {
            "text/html": [
              "<div>\n",
              "<style scoped>\n",
              "    .dataframe tbody tr th:only-of-type {\n",
              "        vertical-align: middle;\n",
              "    }\n",
              "\n",
              "    .dataframe tbody tr th {\n",
              "        vertical-align: top;\n",
              "    }\n",
              "\n",
              "    .dataframe thead th {\n",
              "        text-align: right;\n",
              "    }\n",
              "</style>\n",
              "<table border=\"1\" class=\"dataframe\">\n",
              "  <thead>\n",
              "    <tr style=\"text-align: right;\">\n",
              "      <th></th>\n",
              "      <th>bkblk</th>\n",
              "      <th>bknwy</th>\n",
              "      <th>bkon8</th>\n",
              "      <th>bkona</th>\n",
              "      <th>bkspr</th>\n",
              "      <th>bkxbq</th>\n",
              "      <th>bkxcr</th>\n",
              "      <th>bkxwp</th>\n",
              "      <th>blxwp</th>\n",
              "      <th>bxqsq</th>\n",
              "      <th>cntxt</th>\n",
              "      <th>dsopp</th>\n",
              "      <th>dwipd</th>\n",
              "      <th>hdchk</th>\n",
              "      <th>katri</th>\n",
              "      <th>mulch</th>\n",
              "      <th>qxmsq</th>\n",
              "      <th>r2ar8</th>\n",
              "      <th>reskd</th>\n",
              "      <th>reskr</th>\n",
              "      <th>rimmx</th>\n",
              "      <th>rkxwp</th>\n",
              "      <th>rxmsq</th>\n",
              "      <th>simpl</th>\n",
              "      <th>skach</th>\n",
              "      <th>skewr</th>\n",
              "      <th>skrxp</th>\n",
              "      <th>spcop</th>\n",
              "      <th>stlmt</th>\n",
              "      <th>thrsk</th>\n",
              "      <th>wkcti</th>\n",
              "      <th>wkna8</th>\n",
              "      <th>wknck</th>\n",
              "      <th>wkovl</th>\n",
              "      <th>wkpos</th>\n",
              "      <th>wtoeg</th>\n",
              "      <th>won</th>\n",
              "    </tr>\n",
              "  </thead>\n",
              "  <tbody>\n",
              "    <tr>\n",
              "      <th>0</th>\n",
              "      <td>f</td>\n",
              "      <td>f</td>\n",
              "      <td>f</td>\n",
              "      <td>f</td>\n",
              "      <td>t</td>\n",
              "      <td>f</td>\n",
              "      <td>f</td>\n",
              "      <td>f</td>\n",
              "      <td>f</td>\n",
              "      <td>f</td>\n",
              "      <td>f</td>\n",
              "      <td>f</td>\n",
              "      <td>l</td>\n",
              "      <td>f</td>\n",
              "      <td>n</td>\n",
              "      <td>f</td>\n",
              "      <td>f</td>\n",
              "      <td>t</td>\n",
              "      <td>f</td>\n",
              "      <td>f</td>\n",
              "      <td>f</td>\n",
              "      <td>f</td>\n",
              "      <td>f</td>\n",
              "      <td>f</td>\n",
              "      <td>f</td>\n",
              "      <td>t</td>\n",
              "      <td>f</td>\n",
              "      <td>f</td>\n",
              "      <td>f</td>\n",
              "      <td>f</td>\n",
              "      <td>f</td>\n",
              "      <td>f</td>\n",
              "      <td>f</td>\n",
              "      <td>t</td>\n",
              "      <td>t</td>\n",
              "      <td>n</td>\n",
              "      <td>won</td>\n",
              "    </tr>\n",
              "    <tr>\n",
              "      <th>1</th>\n",
              "      <td>f</td>\n",
              "      <td>f</td>\n",
              "      <td>f</td>\n",
              "      <td>f</td>\n",
              "      <td>t</td>\n",
              "      <td>f</td>\n",
              "      <td>t</td>\n",
              "      <td>f</td>\n",
              "      <td>f</td>\n",
              "      <td>f</td>\n",
              "      <td>f</td>\n",
              "      <td>f</td>\n",
              "      <td>l</td>\n",
              "      <td>f</td>\n",
              "      <td>n</td>\n",
              "      <td>f</td>\n",
              "      <td>f</td>\n",
              "      <td>t</td>\n",
              "      <td>f</td>\n",
              "      <td>f</td>\n",
              "      <td>f</td>\n",
              "      <td>f</td>\n",
              "      <td>f</td>\n",
              "      <td>f</td>\n",
              "      <td>f</td>\n",
              "      <td>t</td>\n",
              "      <td>f</td>\n",
              "      <td>f</td>\n",
              "      <td>f</td>\n",
              "      <td>f</td>\n",
              "      <td>f</td>\n",
              "      <td>f</td>\n",
              "      <td>f</td>\n",
              "      <td>t</td>\n",
              "      <td>t</td>\n",
              "      <td>n</td>\n",
              "      <td>won</td>\n",
              "    </tr>\n",
              "    <tr>\n",
              "      <th>2</th>\n",
              "      <td>f</td>\n",
              "      <td>f</td>\n",
              "      <td>f</td>\n",
              "      <td>f</td>\n",
              "      <td>f</td>\n",
              "      <td>f</td>\n",
              "      <td>f</td>\n",
              "      <td>f</td>\n",
              "      <td>t</td>\n",
              "      <td>f</td>\n",
              "      <td>f</td>\n",
              "      <td>f</td>\n",
              "      <td>l</td>\n",
              "      <td>f</td>\n",
              "      <td>n</td>\n",
              "      <td>f</td>\n",
              "      <td>f</td>\n",
              "      <td>t</td>\n",
              "      <td>f</td>\n",
              "      <td>f</td>\n",
              "      <td>f</td>\n",
              "      <td>t</td>\n",
              "      <td>f</td>\n",
              "      <td>f</td>\n",
              "      <td>f</td>\n",
              "      <td>t</td>\n",
              "      <td>f</td>\n",
              "      <td>f</td>\n",
              "      <td>f</td>\n",
              "      <td>f</td>\n",
              "      <td>f</td>\n",
              "      <td>f</td>\n",
              "      <td>f</td>\n",
              "      <td>t</td>\n",
              "      <td>t</td>\n",
              "      <td>n</td>\n",
              "      <td>won</td>\n",
              "    </tr>\n",
              "    <tr>\n",
              "      <th>3</th>\n",
              "      <td>f</td>\n",
              "      <td>f</td>\n",
              "      <td>f</td>\n",
              "      <td>f</td>\n",
              "      <td>f</td>\n",
              "      <td>f</td>\n",
              "      <td>f</td>\n",
              "      <td>f</td>\n",
              "      <td>f</td>\n",
              "      <td>f</td>\n",
              "      <td>f</td>\n",
              "      <td>f</td>\n",
              "      <td>l</td>\n",
              "      <td>f</td>\n",
              "      <td>n</td>\n",
              "      <td>f</td>\n",
              "      <td>f</td>\n",
              "      <td>t</td>\n",
              "      <td>f</td>\n",
              "      <td>f</td>\n",
              "      <td>f</td>\n",
              "      <td>f</td>\n",
              "      <td>f</td>\n",
              "      <td>t</td>\n",
              "      <td>f</td>\n",
              "      <td>t</td>\n",
              "      <td>f</td>\n",
              "      <td>f</td>\n",
              "      <td>f</td>\n",
              "      <td>f</td>\n",
              "      <td>f</td>\n",
              "      <td>f</td>\n",
              "      <td>f</td>\n",
              "      <td>t</td>\n",
              "      <td>t</td>\n",
              "      <td>n</td>\n",
              "      <td>won</td>\n",
              "    </tr>\n",
              "    <tr>\n",
              "      <th>4</th>\n",
              "      <td>f</td>\n",
              "      <td>f</td>\n",
              "      <td>f</td>\n",
              "      <td>f</td>\n",
              "      <td>f</td>\n",
              "      <td>f</td>\n",
              "      <td>f</td>\n",
              "      <td>f</td>\n",
              "      <td>f</td>\n",
              "      <td>f</td>\n",
              "      <td>f</td>\n",
              "      <td>f</td>\n",
              "      <td>l</td>\n",
              "      <td>f</td>\n",
              "      <td>n</td>\n",
              "      <td>f</td>\n",
              "      <td>f</td>\n",
              "      <td>t</td>\n",
              "      <td>f</td>\n",
              "      <td>f</td>\n",
              "      <td>f</td>\n",
              "      <td>f</td>\n",
              "      <td>f</td>\n",
              "      <td>t</td>\n",
              "      <td>f</td>\n",
              "      <td>t</td>\n",
              "      <td>f</td>\n",
              "      <td>f</td>\n",
              "      <td>f</td>\n",
              "      <td>t</td>\n",
              "      <td>f</td>\n",
              "      <td>f</td>\n",
              "      <td>f</td>\n",
              "      <td>t</td>\n",
              "      <td>t</td>\n",
              "      <td>n</td>\n",
              "      <td>won</td>\n",
              "    </tr>\n",
              "  </tbody>\n",
              "</table>\n",
              "</div>"
            ],
            "text/plain": [
              "  bkblk bknwy bkon8 bkona bkspr bkxbq  ... wkna8 wknck wkovl wkpos wtoeg  won\n",
              "0     f     f     f     f     t     f  ...     f     f     t     t     n  won\n",
              "1     f     f     f     f     t     f  ...     f     f     t     t     n  won\n",
              "2     f     f     f     f     f     f  ...     f     f     t     t     n  won\n",
              "3     f     f     f     f     f     f  ...     f     f     t     t     n  won\n",
              "4     f     f     f     f     f     f  ...     f     f     t     t     n  won\n",
              "\n",
              "[5 rows x 37 columns]"
            ]
          },
          "metadata": {
            "tags": []
          },
          "execution_count": 70
        }
      ]
    },
    {
      "cell_type": "markdown",
      "metadata": {
        "id": "D30Pi0tOTlM4"
      },
      "source": [
        "### 2.2 Imputing the data\n",
        "\n",
        "There are no missing data in this data file, but there are some other issues. \n",
        "\n",
        "When you print the head of this data set, you probably noticed that all the features and labels are strings. We need to replace them with numerical values for modeling. For the `won` column replace winning with a 1 and losing with a 0. For the other columns, there are seven strings. Replace them using the following table:\n",
        "\n",
        "| raw data | replaced |\n",
        "| -------- | -------- |\n",
        "| f | 1 |\n",
        "| l | 2 |\n",
        "| n | 3 |\n",
        "| t | 4 |\n",
        "| w | 5 |\n",
        "| b | 6 |\n",
        "| g | 7 |\n",
        "\n",
        "**Note:** this choice really matters and for the models we have learned can really influence the results of our model. We do this because we need to for the model, but we haven't critically thought about the mapping that makes the most sense. There are other models (e.g., [tree-based alogrithms](https://en.wikipedia.org/wiki/Random_forest)) that can handle these categorical data without this mapping.\n",
        "\n",
        "<font size=8 color=\"#009600\">&#9998;</font> Do this - Replace the entries in the columns as indicated above. Print the `.head()` of the dataframe to show you have succesfull done so."
      ]
    },
    {
      "cell_type": "code",
      "metadata": {
        "id": "HGtbFkalTlM4"
      },
      "source": [
        "data.replace(['f', 'l', 'n', 't', 'w', 'b', 'g', 'won', 'nowin'], [1,2,3,4,5,6,7,1,0], inplace=True)"
      ],
      "execution_count": 37,
      "outputs": []
    },
    {
      "cell_type": "markdown",
      "metadata": {
        "id": "hhR_XVsSTlM9"
      },
      "source": [
        "### 2.3 Separate features and class labels\n",
        "\n",
        "As we have seen in our analyses using `sklearn` it is advantageous to separate our dataframes into `features` and `labels` for the analysis we are intending to do.\n",
        "\n",
        "<font size=8 color=\"#009600\">&#9998;</font> Do this - Separate the data frame into two: a features dataframe and a labels dataframe."
      ]
    },
    {
      "cell_type": "code",
      "metadata": {
        "id": "zUgpFtJ_TlM9"
      },
      "source": [
        "features = data.iloc[:, 0:36]\n",
        "labels = data.iloc[:, 36]"
      ],
      "execution_count": 38,
      "outputs": []
    },
    {
      "cell_type": "code",
      "metadata": {
        "id": "ZuTWDty54r-G",
        "outputId": "a6c62425-6d4b-4840-abb1-09eddfef6061",
        "colab": {
          "base_uri": "https://localhost:8080/"
        }
      },
      "source": [
        "sum(labels)/len(labels)"
      ],
      "execution_count": 39,
      "outputs": [
        {
          "output_type": "execute_result",
          "data": {
            "text/plain": [
              "0.5220657276995305"
            ]
          },
          "metadata": {
            "tags": []
          },
          "execution_count": 39
        }
      ]
    },
    {
      "cell_type": "markdown",
      "metadata": {
        "id": "f6Qd2g2-TlNA"
      },
      "source": [
        "**Question:** How balanced is your outcome variable? Why does it matter for the outcome to be balanced?"
      ]
    },
    {
      "cell_type": "markdown",
      "metadata": {
        "id": "Z_zkqr_pTlNB"
      },
      "source": [
        "<font size=8 color=\"#009600\">&#9998;</font> The outcomes are fairly balanced. This is important to minamize bias."
      ]
    },
    {
      "cell_type": "markdown",
      "metadata": {
        "id": "ZiXHQGdCTlNE"
      },
      "source": [
        "---\n",
        "## 3. Building an SVC model\n",
        "\n",
        "For this classification problem, we will use an support vector machine. As you learned in the midterm review, we could easily replace this with any `sklearn` classifier we choose. We will use a linear kernel.\n",
        "\n",
        "### 3.1 Splitting the data\n",
        "\n",
        "<font size=8 color=\"#009600\">&#9998;</font> Do this - Split your data into a training and testing set with a train size representing 75% of your data. Print the lengths to show you have the right number of entries."
      ]
    },
    {
      "cell_type": "code",
      "metadata": {
        "id": "M4DWCX1jTlNF"
      },
      "source": [
        "xtrain, xtest, ytrain, ytest = train_test_split(features, labels, train_size=.75)"
      ],
      "execution_count": 40,
      "outputs": []
    },
    {
      "cell_type": "code",
      "metadata": {
        "id": "xUoHOD8n5duB",
        "outputId": "c40054c2-dcff-4d2b-ced7-db80b142cb7b",
        "colab": {
          "base_uri": "https://localhost:8080/"
        }
      },
      "source": [
        "print(len(xtrain), len(xtest), len(ytrain), len(ytest))"
      ],
      "execution_count": 41,
      "outputs": [
        {
          "output_type": "stream",
          "text": [
            "2396 799 2396 799\n"
          ],
          "name": "stdout"
        }
      ]
    },
    {
      "cell_type": "code",
      "metadata": {
        "id": "uGMF1chm5qrB",
        "outputId": "f3fc935f-cf38-46ba-f49c-0057ac903208",
        "colab": {
          "base_uri": "https://localhost:8080/"
        }
      },
      "source": [
        "len(xtrain)/(len(xtest)+len(xtrain))"
      ],
      "execution_count": 42,
      "outputs": [
        {
          "output_type": "execute_result",
          "data": {
            "text/plain": [
              "0.7499217527386541"
            ]
          },
          "metadata": {
            "tags": []
          },
          "execution_count": 42
        }
      ]
    },
    {
      "cell_type": "markdown",
      "metadata": {
        "id": "oSxhM85vTlNI"
      },
      "source": [
        "### 3.2 Modeling the data and evaluting the fit\n",
        "\n",
        "As you have done this a number of times, we ask you to do most of the analysis in one cell.\n",
        "\n",
        "<font size=8 color=\"#009600\">&#9998;</font> Do this - Build a linear SVC model (`C=100`), fit it to the training set, use the test features to predict the outcomes. Evaluate the fit using the confusion matrix and classification report.\n",
        "\n",
        " **Note:** You should look at the documentation on the confusion matrix because the way `sklearn` outputs false positives and false negatives is different from what most images on the web indicate."
      ]
    },
    {
      "cell_type": "code",
      "metadata": {
        "id": "e_qLf3NBTlNJ",
        "outputId": "2aa6f0e9-5bb8-4696-9571-3b838ef5b817",
        "colab": {
          "base_uri": "https://localhost:8080/"
        }
      },
      "source": [
        "svc = SVC(kernel='linear', C=100)\n",
        "svc = svc.fit(features, labels)\n",
        "predict = svc.predict(xtest)\n",
        "\n",
        "print(confusion_matrix(ytest, predict))\n",
        "print(classification_report(ytest, predict))\n",
        "print(\"accuracy:\",accuracy_score(ytest, predict))"
      ],
      "execution_count": 43,
      "outputs": [
        {
          "output_type": "stream",
          "text": [
            "[[381   8]\n",
            " [ 10 400]]\n",
            "              precision    recall  f1-score   support\n",
            "\n",
            "           0       0.97      0.98      0.98       389\n",
            "           1       0.98      0.98      0.98       410\n",
            "\n",
            "    accuracy                           0.98       799\n",
            "   macro avg       0.98      0.98      0.98       799\n",
            "weighted avg       0.98      0.98      0.98       799\n",
            "\n",
            "accuracy: 0.9774718397997497\n"
          ],
          "name": "stdout"
        }
      ]
    },
    {
      "cell_type": "markdown",
      "metadata": {
        "id": "f_JzSUXxTlNM"
      },
      "source": [
        "**Question:** How accurate is your model? What eveidence are you using to determine that? How many false positives and false negatives does it predict?"
      ]
    },
    {
      "cell_type": "markdown",
      "metadata": {
        "id": "RGNCi0d2TlNM"
      },
      "source": [
        "<font size=8 color=\"#009600\">&#9998;</font> The model is very accurate. There are 18 false negatives and 10 false poitives with an .96 accuracy"
      ]
    },
    {
      "cell_type": "markdown",
      "metadata": {
        "id": "EVMKG9atTlNN"
      },
      "source": [
        "---\n",
        "## 4. Finding and using the best hyperparameters\n",
        "\n",
        "We have fit one model and determined it's performance, but is it the best model? We can use `GridSearchCV` to find the best model (given our choices of parameters). Once we do that, we will use that best model going forward. **Note:** you would typically rerun this grid search in a production environment to continue to verify the best model, but we are not for the sake of speed.\n",
        "\n",
        "### 4.1 Grid search\n",
        "\n",
        "<font size=8 color=\"#009600\">&#9998;</font> Do this - Using the following parameters (`C` = 1, 10, 100, 1000 and `gamma` = 1e-4, 1e-3, 0.01, 0.1) for both a `linear` and `rbf` kernel use `GridSearchCV` with the `SVC()` model to find the best fit parameters. Print the \"best estimators\"."
      ]
    },
    {
      "cell_type": "code",
      "metadata": {
        "id": "1WJvAL7MTlNN",
        "outputId": "e3dc38cd-2b2a-47ea-8963-41fa03d4471e",
        "colab": {
          "base_uri": "https://localhost:8080/"
        }
      },
      "source": [
        "param_grid = {'C': [1, 10, 100, 1000],\n",
        "          'gamma': [1e-4, 1e-3, 0.01, 0.1], }\n",
        "clf = GridSearchCV(SVC(kernel='linear'), param_grid)\n",
        "clf = clf.fit(features, labels)\n",
        "bestlinear = clf\n",
        "print(\"Best Estimator for linear kernal\", clf.best_estimator_)"
      ],
      "execution_count": 44,
      "outputs": [
        {
          "output_type": "stream",
          "text": [
            "Best Estimator for linear kernal SVC(C=10, break_ties=False, cache_size=200, class_weight=None, coef0=0.0,\n",
            "    decision_function_shape='ovr', degree=3, gamma=0.0001, kernel='linear',\n",
            "    max_iter=-1, probability=False, random_state=None, shrinking=True,\n",
            "    tol=0.001, verbose=False)\n"
          ],
          "name": "stdout"
        }
      ]
    },
    {
      "cell_type": "code",
      "metadata": {
        "id": "vS85GhyjBGIw",
        "outputId": "aba25cb3-f48d-4c0d-8291-f4dc9e188840",
        "colab": {
          "base_uri": "https://localhost:8080/"
        }
      },
      "source": [
        "param_grid = {'C': [1, 10, 100, 1000],\n",
        "          'gamma': [1e-4, 1e-3, 0.01, 0.1], }\n",
        "clf = GridSearchCV(SVC(kernel='rbf'), param_grid)\n",
        "clf = clf.fit(features, labels)\n",
        "bestrbf = clf\n",
        "print(\"Best Estimator for rbf kernal\", clf.best_estimator_)"
      ],
      "execution_count": 45,
      "outputs": [
        {
          "output_type": "stream",
          "text": [
            "Best Estimator for rbf kernal SVC(C=100, break_ties=False, cache_size=200, class_weight=None, coef0=0.0,\n",
            "    decision_function_shape='ovr', degree=3, gamma=0.01, kernel='rbf',\n",
            "    max_iter=-1, probability=False, random_state=None, shrinking=True,\n",
            "    tol=0.001, verbose=False)\n"
          ],
          "name": "stdout"
        }
      ]
    },
    {
      "cell_type": "markdown",
      "metadata": {
        "id": "H5mSkMiNTlNP"
      },
      "source": [
        "### 4.2 Evaluating the best fit model\n",
        "\n",
        "Now that we have found the \"best estimators\", let's determine how good the fit is.\n",
        "\n",
        "<font size=8 color=\"#009600\">&#9998;</font> Do this - Use the test features to predict the outcomes for the best model. Evaluate the fit using the confusion matrix and classification report. \n",
        "\n",
        "**Note:** You should look at the documentation on the confusion matrix because the way `sklearn` outputs false positives and false negatives is different from what most images on the web indicate."
      ]
    },
    {
      "cell_type": "code",
      "metadata": {
        "id": "Bli5Jr2LB3Tg",
        "outputId": "ecc81b8d-cf45-4a34-aa88-d4006fdb873a",
        "colab": {
          "base_uri": "https://localhost:8080/"
        }
      },
      "source": [
        "predict = bestlinear.predict(xtest)\n",
        "\n",
        "print(confusion_matrix(ytest, predict))\n",
        "print(classification_report(ytest, predict))\n",
        "print(\"accuracy:\",accuracy_score(ytest, predict))"
      ],
      "execution_count": 46,
      "outputs": [
        {
          "output_type": "stream",
          "text": [
            "[[381   8]\n",
            " [ 10 400]]\n",
            "              precision    recall  f1-score   support\n",
            "\n",
            "           0       0.97      0.98      0.98       389\n",
            "           1       0.98      0.98      0.98       410\n",
            "\n",
            "    accuracy                           0.98       799\n",
            "   macro avg       0.98      0.98      0.98       799\n",
            "weighted avg       0.98      0.98      0.98       799\n",
            "\n",
            "accuracy: 0.9774718397997497\n"
          ],
          "name": "stdout"
        }
      ]
    },
    {
      "cell_type": "code",
      "metadata": {
        "id": "MerWVyZeCBCC",
        "outputId": "73ec0ecd-e442-4da0-e518-99cd26e78df5",
        "colab": {
          "base_uri": "https://localhost:8080/"
        }
      },
      "source": [
        "predict = bestrbf.predict(xtest)\n",
        "\n",
        "print(confusion_matrix(ytest, predict))\n",
        "print(classification_report(ytest, predict))\n",
        "print(\"accuracy:\",accuracy_score(ytest, predict))"
      ],
      "execution_count": 47,
      "outputs": [
        {
          "output_type": "stream",
          "text": [
            "[[389   0]\n",
            " [  0 410]]\n",
            "              precision    recall  f1-score   support\n",
            "\n",
            "           0       1.00      1.00      1.00       389\n",
            "           1       1.00      1.00      1.00       410\n",
            "\n",
            "    accuracy                           1.00       799\n",
            "   macro avg       1.00      1.00      1.00       799\n",
            "weighted avg       1.00      1.00      1.00       799\n",
            "\n",
            "accuracy: 1.0\n"
          ],
          "name": "stdout"
        }
      ]
    },
    {
      "cell_type": "markdown",
      "metadata": {
        "id": "dnpz_55CTlNS"
      },
      "source": [
        "**Question:** How accurate is this best model? What evidence are you using to determine that? How many false positives and false negatives does it predict?"
      ]
    },
    {
      "cell_type": "markdown",
      "metadata": {
        "id": "TQHpdYcmTlNS"
      },
      "source": [
        "<font size=8 color=\"#009600\">&#9998;</font> The rbf kernal optimized with GridSearchCV has the best accuracy at 100%\n"
      ]
    },
    {
      "cell_type": "markdown",
      "metadata": {
        "id": "VPYuh1CvTlNS"
      },
      "source": [
        "---\n",
        "## 5. Using Principal Components\n",
        "\n",
        "The full model uses 36 features to predict the results. And you likely found that the model is incredibly accurate. But in some cases, we might have even more features (which means much more computational time), and we might not need nearly the level of accuracy we can achieve with the full data set. So, we will see how close we can get with fewer features. But instead of simply removing features, we will use a PCA to determine the featurse that contribute the most the model (through their accounted variance) and use those to build our SVC model.\n",
        "\n",
        "### 5.1 Building a PCA\n",
        "\n",
        "We will start with a small number of components (say, 4) to see how well we can predict the outcomes of the games.\n",
        "\n",
        "<font size=8 color=\"#009600\">&#9998;</font> Do this - Using `PCA()`, fit a pca to your training features with 4 components. Transform both the test and training features using this pca. Plot the `explained_variance_` versus component number."
      ]
    },
    {
      "cell_type": "code",
      "metadata": {
        "id": "TWMdR5lMTlNT",
        "outputId": "10402b90-a129-45c0-c2cd-fe52db999e8c",
        "colab": {
          "base_uri": "https://localhost:8080/",
          "height": 282
        }
      },
      "source": [
        "pca = PCA(n_components=4)\n",
        "pca = pca.fit(xtrain)\n",
        "pcaxtrain = pca.transform(xtrain)\n",
        "pcaxtest = pca.transform(xtest)\n",
        "plt.plot(pca.explained_variance_ratio_, marker=\"o\")"
      ],
      "execution_count": 48,
      "outputs": [
        {
          "output_type": "execute_result",
          "data": {
            "text/plain": [
              "[<matplotlib.lines.Line2D at 0x7fcd3f96cb00>]"
            ]
          },
          "metadata": {
            "tags": []
          },
          "execution_count": 48
        },
        {
          "output_type": "display_data",
          "data": {
            "image/png": "[encoded data removed]",
            "text/plain": [
              "<Figure size 432x288 with 1 Axes>"
            ]
          },
          "metadata": {
            "tags": [],
            "needs_background": "light"
          }
        }
      ]
    },
    {
      "cell_type": "markdown",
      "metadata": {
        "id": "_DBNagbeTlNV"
      },
      "source": [
        "**Question:** What is the total explained variance captured by this PCA (we will use this later, just quote the number)? How well do you think a model with this many featuers will perform? Why?"
      ]
    },
    {
      "cell_type": "code",
      "metadata": {
        "id": "8TAMmofwFsMf",
        "outputId": "bbb32729-b281-4a0b-a5fb-b22f62e6344d",
        "colab": {
          "base_uri": "https://localhost:8080/"
        }
      },
      "source": [
        "total_variance = np.sum(pca.explained_variance_ratio_)*100\n",
        "print(\"These %d eigenvectors account for a total of %d percent of the total variance in the original dataset\"\n",
        "      % (4, total_variance))"
      ],
      "execution_count": 49,
      "outputs": [
        {
          "output_type": "stream",
          "text": [
            "These 4 eigenvectors account for a total of 44 percent of the total variance in the original dataset\n"
          ],
          "name": "stdout"
        }
      ]
    },
    {
      "cell_type": "markdown",
      "metadata": {
        "id": "sypWa2IOTlNV"
      },
      "source": [
        "<font size=8 color=\"#009600\">&#9998;</font> I do not think a model with this many features will perform well because there is significantly less information in the data"
      ]
    },
    {
      "cell_type": "markdown",
      "metadata": {
        "id": "WX5G0YbeTlNV"
      },
      "source": [
        "### 5.2 Fit and Evaluate an SVC model\n",
        "\n",
        "Using the pca transformed features, we will train and test an SVC model using the \"best estimators\".\n",
        "\n",
        "<font size=8 color=\"#009600\">&#9998;</font> Do this - Using the pca transformed training data, build and train an SVC model. Predict the classes using the pca transformed test data. Evaluate the model using the classfication report, and the confusion matrix."
      ]
    },
    {
      "cell_type": "code",
      "metadata": {
        "id": "r3CbpoxzTlNW",
        "outputId": "cf67b9b6-f0f4-47de-d5bb-07f8670d5304",
        "colab": {
          "base_uri": "https://localhost:8080/"
        }
      },
      "source": [
        "rbf = bestrbf.fit(pcaxtrain, ytrain)\n",
        "predict = rbf.predict(pcaxtest)\n",
        "\n",
        "print(confusion_matrix(ytest, predict))\n",
        "print(classification_report(ytest, predict))\n",
        "print(\"accuracy:\",accuracy_score(ytest, predict))"
      ],
      "execution_count": 50,
      "outputs": [
        {
          "output_type": "stream",
          "text": [
            "[[287 102]\n",
            " [124 286]]\n",
            "              precision    recall  f1-score   support\n",
            "\n",
            "           0       0.70      0.74      0.72       389\n",
            "           1       0.74      0.70      0.72       410\n",
            "\n",
            "    accuracy                           0.72       799\n",
            "   macro avg       0.72      0.72      0.72       799\n",
            "weighted avg       0.72      0.72      0.72       799\n",
            "\n",
            "accuracy: 0.7171464330413017\n"
          ],
          "name": "stdout"
        }
      ]
    },
    {
      "cell_type": "markdown",
      "metadata": {
        "id": "QOlxKSgnTlNY"
      },
      "source": [
        "**Question:** How accurate is this model? What evidence are you using to determine that? How many false positives and false negatives does it predict? How does it compare to the full model?"
      ]
    },
    {
      "cell_type": "markdown",
      "metadata": {
        "id": "TfXn1S-jTlNZ"
      },
      "source": [
        "<font size=8 color=\"#009600\">&#9998;</font> This model is not very accurate. it has 68% accuracy, 123 false positives, and 131 false negatives"
      ]
    },
    {
      "cell_type": "markdown",
      "metadata": {
        "id": "mHZEeVtYTlNZ"
      },
      "source": [
        "### 5.3 Repeat your analysis with more components\n",
        "\n",
        "You probably found that the model with 4 features didn't work so well. What if we increase the number of components (say to 30, which is still 6 fewer than the full data set). What happens now?\n",
        "\n",
        "<font size=8 color=\"#009600\">&#9998;</font> Do this - Repeat your analysis from 5.1 and 5.2 using 30 components instead."
      ]
    },
    {
      "cell_type": "code",
      "metadata": {
        "id": "72aeJV6jTlNZ"
      },
      "source": [
        "pca = PCA(n_components=30)\n",
        "pca = pca.fit(xtrain)\n",
        "pcaxtrain = pca.transform(xtrain)\n",
        "pcaxtest = pca.transform(xtest)\n",
        "rbf = bestrbf.fit(pcaxtrain, ytrain)\n",
        "predict = rbf.predict(pcaxtest)\n"
      ],
      "execution_count": 59,
      "outputs": []
    },
    {
      "cell_type": "code",
      "metadata": {
        "id": "P7ZjGRD9LR7c",
        "outputId": "d3d223f4-1a9d-4cd7-deb7-e7e6209f7cf7",
        "colab": {
          "base_uri": "https://localhost:8080/"
        }
      },
      "source": [
        "print(confusion_matrix(ytest, predict))\n",
        "print(classification_report(ytest, predict))\n",
        "print(\"accuracy:\",accuracy_score(ytest, predict))"
      ],
      "execution_count": 60,
      "outputs": [
        {
          "output_type": "stream",
          "text": [
            "[[383   6]\n",
            " [  1 409]]\n",
            "              precision    recall  f1-score   support\n",
            "\n",
            "           0       1.00      0.98      0.99       389\n",
            "           1       0.99      1.00      0.99       410\n",
            "\n",
            "    accuracy                           0.99       799\n",
            "   macro avg       0.99      0.99      0.99       799\n",
            "weighted avg       0.99      0.99      0.99       799\n",
            "\n",
            "accuracy: 0.9912390488110138\n"
          ],
          "name": "stdout"
        }
      ]
    },
    {
      "cell_type": "code",
      "metadata": {
        "id": "Nive6tdvLBSs",
        "outputId": "ffd55525-fc10-4f1b-a80d-e2206ffc494d",
        "colab": {
          "base_uri": "https://localhost:8080/"
        }
      },
      "source": [
        "total_variance = np.sum(pca.explained_variance_ratio_)*100\n",
        "print(\"These %d eigenvectors account for a total of %d percent of the total variance in the original dataset\"\n",
        "      % (30, total_variance))"
      ],
      "execution_count": 58,
      "outputs": [
        {
          "output_type": "stream",
          "text": [
            "These 30 eigenvectors account for a total of 99 percent of the total variance in the original dataset\n"
          ],
          "name": "stdout"
        }
      ]
    },
    {
      "cell_type": "markdown",
      "metadata": {
        "id": "0UBxdeVoTlNc"
      },
      "source": [
        "**Question:** What is the total explained variance captured by this PCA? How accurate is this model? What evidence are you using to determine that? How many false positives and false negatives does it predict? How does it compare to the 4 component model? To the full model?"
      ]
    },
    {
      "cell_type": "markdown",
      "metadata": {
        "id": "6jFkWa4VTlNc"
      },
      "source": [
        "<font size=8 color=\"#009600\">&#9998;</font> This model only has 1 false positive and 6 false negatives. the accuracy if very good at 99%. This is far better than the 4 component model. It is only slightly less accurate than the best full model"
      ]
    },
    {
      "cell_type": "markdown",
      "metadata": {
        "id": "Wi60ijLwTlNc"
      },
      "source": [
        "---\n",
        "## 6. How well does a PCA work?\n",
        "\n",
        "Clearly, the number of components we use in our PCA matters. Let's investigate how they matter by systematically building a model for any number of selected components.\n",
        "\n",
        "### 6.1 Accuracy vs. Components\n",
        "\n",
        "We will do this by writing a function that creates the PCA, the SVC model, fits the training data, predict the labels using test data, and returns the accuracy scores and the explained variance. So your function will take as input:\n",
        "* the number of components\n",
        "* the training features\n",
        "* the test features\n",
        "* the training labels\n",
        "* the test labels\n",
        "and it will return the accuracy scores for an SVC model fit to pca transformed features and the total explained variance.\n",
        "\n",
        "<font size=8 color=\"#009600\">&#9998;</font> Do this - Create this function, which you will use in the next section."
      ]
    },
    {
      "cell_type": "code",
      "metadata": {
        "id": "5lgBd4dITlNd"
      },
      "source": [
        "def test(numComp, xtrain, xtest, ytrain, ytest):\n",
        "  pca = PCA(n_components=numComp)\n",
        "  pca = pca.fit(xtrain)\n",
        "  pcaxtrain = pca.transform(xtrain)\n",
        "  pcaxtest = pca.transform(xtest)\n",
        "  rbf = bestrbf.fit(pcaxtrain, ytrain)\n",
        "  predict = rbf.predict(pcaxtest)\n",
        "  accuracy = accuracy_score(ytest, predict)\n",
        "  explVar = np.sum(pca.explained_variance_ratio_)\n",
        "  return accuracy, explVar"
      ],
      "execution_count": 61,
      "outputs": []
    },
    {
      "cell_type": "markdown",
      "metadata": {
        "id": "va5HbMHQTlNe"
      },
      "source": [
        "### 6.2 Compute accuracies\n",
        "\n",
        "Now that you have created a function that returns the accuracy for a given number of components, we will use that to plot the how the accuracy of your SVC model changes when we increase the number of components used in the PCA.\n",
        "\n",
        "<font size=8 color=\"#009600\">&#9998;</font> Do this - For 1 to 36 components, use your function above to compute and store (as a list) the accuracy of your models."
      ]
    },
    {
      "cell_type": "code",
      "metadata": {
        "id": "jyF3SOHlTlNf"
      },
      "source": [
        "accuracyLs = []\n",
        "explVarLS = []\n",
        "for numComp in range(1, 37):\n",
        " accuracy, explVar = test(numComp, xtrain, xtest, ytrain, ytest)\n",
        " accuracyLs.append(accuracy)\n",
        " explVarLS.append(explVar)"
      ],
      "execution_count": 64,
      "outputs": []
    },
    {
      "cell_type": "markdown",
      "metadata": {
        "id": "Cy6rG4i3TlNh"
      },
      "source": [
        "### 6.3 Plot accuracy vs number of components\n",
        "\n",
        "Now that we have those numbers, it makes sense to look at the accuracy vs components.\n",
        "\n",
        "<font size=8 color=\"#009600\">&#9998;</font> Do this - Plot the accuracy vs components."
      ]
    },
    {
      "cell_type": "code",
      "metadata": {
        "id": "E79qXyICTlNh",
        "outputId": "4252ec7a-adc8-4505-c7fd-831ef37ab55a",
        "colab": {
          "base_uri": "https://localhost:8080/",
          "height": 296
        }
      },
      "source": [
        "plt.plot(np.arange(1, 37), accuracyLs)\n",
        "plt.xlabel('Number of Components')\n",
        "plt.ylabel('Accuracy')"
      ],
      "execution_count": 68,
      "outputs": [
        {
          "output_type": "execute_result",
          "data": {
            "text/plain": [
              "Text(0, 0.5, 'Accuracy')"
            ]
          },
          "metadata": {
            "tags": []
          },
          "execution_count": 68
        },
        {
          "output_type": "display_data",
          "data": {
            "image/png": "[encoded data removed]",
            "text/plain": [
              "<Figure size 432x288 with 1 Axes>"
            ]
          },
          "metadata": {
            "tags": [],
            "needs_background": "light"
          }
        }
      ]
    },
    {
      "cell_type": "markdown",
      "metadata": {
        "id": "8DlGhaF_TlNl"
      },
      "source": [
        "**Question:** Where does it seem like we have diminishing returns, that is, no major increase in accuracy as we add additional components to the PCA?"
      ]
    },
    {
      "cell_type": "markdown",
      "metadata": {
        "id": "JFRE8zSPTlNl"
      },
      "source": [
        "<font size=8 color=\"#009600\">&#9998;</font> After about 12 components, the accuracy doesn't get much better by adding in a component"
      ]
    },
    {
      "cell_type": "markdown",
      "metadata": {
        "id": "c35Xn8A2TlNm"
      },
      "source": [
        "### 6.4 Plot total explained variance vs number of components\n",
        "\n",
        "<font size=8 color=\"#009600\">&#9998;</font> Do this - Plot the total explained variance vs components. "
      ]
    },
    {
      "cell_type": "code",
      "metadata": {
        "id": "8tLxSRU4TlNm",
        "outputId": "32e28f43-a82e-4e90-a0d8-3335a2380a19",
        "colab": {
          "base_uri": "https://localhost:8080/",
          "height": 296
        }
      },
      "source": [
        "plt.plot(np.arange(1, 37), explVarLS)\n",
        "plt.xlabel('Number of Components')\n",
        "plt.ylabel('Explained Variance')"
      ],
      "execution_count": 69,
      "outputs": [
        {
          "output_type": "execute_result",
          "data": {
            "text/plain": [
              "Text(0, 0.5, 'Explained Variance')"
            ]
          },
          "metadata": {
            "tags": []
          },
          "execution_count": 69
        },
        {
          "output_type": "display_data",
          "data": {
            "image/png": "[encoded data removed]",
            "text/plain": [
              "<Figure size 432x288 with 1 Axes>"
            ]
          },
          "metadata": {
            "tags": [],
            "needs_background": "light"
          }
        }
      ]
    },
    {
      "cell_type": "markdown",
      "metadata": {
        "id": "5fdgxDu0TlNp"
      },
      "source": [
        "**Question:** Where does it seem like we have diminishing returns, that is, no major increase in explained variance as we add additional components to the PCA? How does that number of components compare to the diminishing returns for accuracy?"
      ]
    },
    {
      "cell_type": "markdown",
      "metadata": {
        "id": "FervjYVTTlNp"
      },
      "source": [
        "<font size=8 color=\"#009600\">&#9998;</font> The explained variance increases slower as more components are added. If anything, at about 15 is when there is no mjaor increase so it is related to accuracy."
      ]
    },
    {
      "cell_type": "markdown",
      "metadata": {
        "id": "eZWxAgsoTlNp"
      },
      "source": [
        "---\n",
        "## 7. Assignment wrap-up¶\n",
        "Please fill out the form that appears when you run the code below. **You must completely fill this out in order to receive credit for the assignment!**"
      ]
    },
    {
      "cell_type": "code",
      "metadata": {
        "id": "FaD9-FEPTlNq",
        "outputId": "593d692c-5c68-4d24-c757-1c7ad1c2cc66",
        "colab": {
          "base_uri": "https://localhost:8080/",
          "height": 621
        }
      },
      "source": [
        "from IPython.display import HTML\n",
        "HTML(\n",
        "\"\"\"\n",
        "<iframe \n",
        "\tsrc=\"https://docs.google.com/forms/d/e/1FAIpQLSc0IBD2mdn4TcRyi-KNXVtS3aEg6U4mOFq2MOciLQyEP4bg1w/viewform?usp=sf_link\" \n",
        "\twidth=\"800px\" \n",
        "\theight=\"600px\" \n",
        "\tframeborder=\"0\" \n",
        "\tmarginheight=\"0\" \n",
        "\tmarginwidth=\"0\">\n",
        "\tLoading...\n",
        "</iframe>\n",
        "\"\"\"\n",
        ")"
      ],
      "execution_count": 56,
      "outputs": [
        {
          "output_type": "execute_result",
          "data": {
            "text/html": [
              "\n",
              "<iframe \n",
              "\tsrc=\"https://docs.google.com/forms/d/e/1FAIpQLSc0IBD2mdn4TcRyi-KNXVtS3aEg6U4mOFq2MOciLQyEP4bg1w/viewform?usp=sf_link\" \n",
              "\twidth=\"800px\" \n",
              "\theight=\"600px\" \n",
              "\tframeborder=\"0\" \n",
              "\tmarginheight=\"0\" \n",
              "\tmarginwidth=\"0\">\n",
              "\tLoading...\n",
              "</iframe>\n"
            ],
            "text/plain": [
              "<IPython.core.display.HTML object>"
            ]
          },
          "metadata": {
            "tags": []
          },
          "execution_count": 56
        }
      ]
    },
    {
      "cell_type": "markdown",
      "metadata": {
        "id": "3ghVVTvxTlNt"
      },
      "source": [
        "### Congratulations, you're done!\n",
        "Submit this assignment by uploading it to the course Desire2Learn web page. Go to the \"Homework Assignments\" folder, find the dropbox link for Homework 4, and upload your notebook."
      ]
    },
    {
      "cell_type": "code",
      "metadata": {
        "id": "KH5QpKGlTlNt"
      },
      "source": [
        ""
      ],
      "execution_count": 56,
      "outputs": []
    }
  ]
}