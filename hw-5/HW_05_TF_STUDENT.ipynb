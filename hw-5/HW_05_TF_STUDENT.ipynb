{
  "nbformat": 4,
  "nbformat_minor": 0,
  "metadata": {
    "kernelspec": {
      "display_name": "Python 3",
      "language": "python",
      "name": "python3"
    },
    "language_info": {
      "codemirror_mode": {
        "name": "ipython",
        "version": 3
      },
      "file_extension": ".py",
      "mimetype": "text/x-python",
      "name": "python",
      "nbconvert_exporter": "python",
      "pygments_lexer": "ipython3",
      "version": "3.7.6"
    },
    "colab": {
      "name": "HW-05_TF-STUDENT.ipynb",
      "provenance": [],
      "collapsed_sections": []
    }
  },
  "cells": [
    {
      "cell_type": "markdown",
      "metadata": {
        "id": "n0pI1dj78uDy"
      },
      "source": [
        "### <p style=\"text-align: right;\"> &#9989; Brady Berg</p>"
      ]
    },
    {
      "cell_type": "markdown",
      "metadata": {
        "id": "bRRPymWR8uDz"
      },
      "source": [
        "# CMSE Homework 05\n",
        "\n",
        "## Using Tensorflow/Keras for classification\n",
        "\n",
        "\n",
        "### Assignment instructions\n",
        "\n",
        "Work through the following assignment, making sure to follow all of the directions and answer all of the questions.\n",
        "\n",
        "There are 25 points possible on this assignment. Point values for each part are included in the section headers.\n",
        "\n",
        "This assignment is due roughly two weeks from now at 11:59 pm on **Friday Dec. 4th**. It should be uploaded into the \"Homework Assignments\" submission folder for Homework #5 in your D2L webpage. Submission instructions can be found at the end of the notebook.\n",
        "\n",
        "**Hint**: It is possible you are asked to do something you are not familiar with. That's why you have internet access. Do some smart searches and see what you can find! \n",
        "\n",
        "### Goals for this homework assignment\n",
        "\n",
        "The goal for this assignment is for you to learn about neural network implemented by __Tensorflow__ and __Keras__ to do some basic classification tasks. Unless you already have experience with Tensorflow or Keras or similar libraries, you will not understand everything about this right away. You probably haven't even installed Tensorflow yet. Don't worry, that is perfectly fine. We will walk through one example in detail. So don't worry if some steps seem arbitrary or look like magic to you! We've got to start somewhere.\n",
        "\n",
        "[Tensorflow](https://www.tensorflow.org/) is a free and open-source software library for machine learning. It is one of the most popular software package for training and inference of deep neural networks. [Keras](https://keras.io/) is the high-level API of TensorFlow 2.0. \n",
        "\n",
        "\n",
        "To get started, you need to set up the required software. You can follow the detailed instruction from the [installation guide of Tensorflow](https://www.tensorflow.org/install) which also includes Keras. In most cases, you can simply type\n",
        "\n",
        "`pip install --upgrade tensorflow`\n",
        "\n",
        "Now you are ready for action!\n",
        "\n",
        "__Note__ Following the installation guide, you should have installed Tensorflow V2.3.1, and   Numpy should be downgraded to V1.18.5. If you have trouble with installation or you run into issues with dead kernels, please check the versions of the packages installed and asked for help during help hours!\n",
        "\n",
        "Below is the import for this assignement."
      ]
    },
    {
      "cell_type": "code",
      "metadata": {
        "id": "OtNA5U3w8uDz"
      },
      "source": [
        "## Our import\n",
        "import tensorflow as tf\n",
        "from tensorflow.keras.datasets import fashion_mnist\n",
        "from tensorflow.keras.datasets import mnist\n",
        "from tensorflow.keras.models import Sequential\n",
        "from tensorflow.keras.layers import Dense\n",
        "from tensorflow.keras.utils import to_categorical\n",
        "\n",
        "import numpy as np\n",
        "import pandas as pd\n",
        "import matplotlib.pyplot as plt\n",
        "%matplotlib inline\n"
      ],
      "execution_count": 37,
      "outputs": []
    },
    {
      "cell_type": "markdown",
      "metadata": {
        "id": "w3hLw79i8uDz"
      },
      "source": [
        "---\n",
        "## Part 1. Adding notebook to your turn-in repository\n",
        "\n",
        "Like you did for Homework 3, you're going to add it to the CMSE202 repository you created in class so that you can track your progress on the assignment and preserve the final version that you turn in. In order to do this you need to:\n",
        "\n",
        "* Navigate to your /CMSE202/repos repository and create a new directory called hw-05.\n",
        "* Move this notebook into that new directory in your repository, then add it and commit it to your repository.\n",
        "   * Finally, to test that everything is working, \"git push\" the file so that it ends up in your GitHub repository.\n",
        "\n",
        "Important: Make sure you've added your TA as a collaborators to your respository with \"Read\" access so that we can see your assignment. (*If you did this for Homework 3, you do not need to do it again*)\n",
        "\n",
        "* Section 001: tuethan\n",
        "* Section 002: Luis-Polanco\n",
        "* Section 003: DavidRimel\n",
        "\n",
        "Also important: Make sure that the version of this notebook that you are working on is the same one that you just added to your repository! If you are working on a different copy of the notebook, none of your changes will be tracked.\n",
        "\n",
        "If everything went as intended, the file should now show up on your GitHub account CMSE202 repository under the hw-04 directory that you just created. Periodically, you'll be asked to commit your changes to the repository and push them to the remote GitHub location. Of course, you can always commit your changes more often than that, if you wish. It can be good to get into a habit of committing your changes any time you make a significant modification, or when you stop working on the project for a bit."
      ]
    },
    {
      "cell_type": "markdown",
      "metadata": {
        "id": "c7bA8nqV8uDz"
      },
      "source": [
        "## Part 2: Classifying MNIST data (6 points)\n",
        "\n",
        "\n",
        "We will now walk through a concrete example of a neural network, which makes use of  Keras to learn to classify hand-written digits.\n",
        "\n",
        "The problem we are trying to solve here is to classify grayscale images of handwritten digits (28 pixels by 28 pixels), into their 10 \n",
        "categories (0 to 9). The dataset we will use is the MNIST dataset, a classic dataset in the machine learning community, which has been \n",
        "around for almost as long as the field itself and has been very intensively studied. It's a set of 60,000 training images, plus 10,000 test \n",
        "images, assembled by the National Institute of Standards and Technology (the NIST in MNIST) in the 1980s. You can think of \"solving\" MNIST \n",
        "as the \"Hello World\" of deep learning -- it's what you do to verify that your algorithms are working as expected. As you become a machine \n",
        "learning practitioner, you will see MNIST come up over and over again, in scientific papers, blog posts, and so on.\n",
        "\n",
        "The MNIST dataset comes pre-loaded in Keras, in the form of a set of four Numpy arrays:\n",
        "\n"
      ]
    },
    {
      "cell_type": "code",
      "metadata": {
        "id": "-oT-54hP8uDz"
      },
      "source": [
        "(train_images, train_labels), (test_images, test_labels)=mnist.load_data()"
      ],
      "execution_count": 38,
      "outputs": []
    },
    {
      "cell_type": "markdown",
      "metadata": {
        "id": "DMCMWSW78uDz"
      },
      "source": [
        "`train_images` and `train_labels` form the \"training set\", the data that the model will learn from. The model will then be tested on the \n",
        "\"test set\", `test_images` and `test_labels`. Our images are encoded as Numpy arrays, and the labels are simply an array of digits, ranging \n",
        "from 0 to 9. There is a one-to-one correspondence between the images and the labels.\n",
        "\n",
        "Let's have a look at the training data:"
      ]
    },
    {
      "cell_type": "code",
      "metadata": {
        "colab": {
          "base_uri": "https://localhost:8080/"
        },
        "id": "il0ryIlI8uDz",
        "outputId": "1b757fc4-e1c9-43ae-e6f8-1a0313f16621"
      },
      "source": [
        "train_images.shape\n"
      ],
      "execution_count": 39,
      "outputs": [
        {
          "output_type": "execute_result",
          "data": {
            "text/plain": [
              "(60000, 28, 28)"
            ]
          },
          "metadata": {
            "tags": []
          },
          "execution_count": 39
        }
      ]
    },
    {
      "cell_type": "code",
      "metadata": {
        "scrolled": true,
        "colab": {
          "base_uri": "https://localhost:8080/"
        },
        "id": "yCuTIQb68uDz",
        "outputId": "28cf2478-e903-4753-8e61-a8401db8559e"
      },
      "source": [
        "len(train_labels)"
      ],
      "execution_count": 40,
      "outputs": [
        {
          "output_type": "execute_result",
          "data": {
            "text/plain": [
              "60000"
            ]
          },
          "metadata": {
            "tags": []
          },
          "execution_count": 40
        }
      ]
    },
    {
      "cell_type": "code",
      "metadata": {
        "colab": {
          "base_uri": "https://localhost:8080/"
        },
        "id": "Xea7onTJ8uDz",
        "outputId": "6128dced-95ac-4288-c448-f97288414ec9"
      },
      "source": [
        "train_labels"
      ],
      "execution_count": 41,
      "outputs": [
        {
          "output_type": "execute_result",
          "data": {
            "text/plain": [
              "array([5, 0, 4, ..., 5, 6, 8], dtype=uint8)"
            ]
          },
          "metadata": {
            "tags": []
          },
          "execution_count": 41
        }
      ]
    },
    {
      "cell_type": "markdown",
      "metadata": {
        "id": "h5iKiE_n8uDz"
      },
      "source": [
        "Let's have a look at the test data:"
      ]
    },
    {
      "cell_type": "code",
      "metadata": {
        "colab": {
          "base_uri": "https://localhost:8080/"
        },
        "id": "le-8C1k38uDz",
        "outputId": "e48cf441-92e2-4fc0-9d39-46446a57adf5"
      },
      "source": [
        "test_images.shape"
      ],
      "execution_count": 42,
      "outputs": [
        {
          "output_type": "execute_result",
          "data": {
            "text/plain": [
              "(10000, 28, 28)"
            ]
          },
          "metadata": {
            "tags": []
          },
          "execution_count": 42
        }
      ]
    },
    {
      "cell_type": "code",
      "metadata": {
        "colab": {
          "base_uri": "https://localhost:8080/"
        },
        "id": "RCF2M9eX8uD0",
        "outputId": "cd343989-83d2-4f3b-c40d-0fba7eadd964"
      },
      "source": [
        "len(test_labels)"
      ],
      "execution_count": 43,
      "outputs": [
        {
          "output_type": "execute_result",
          "data": {
            "text/plain": [
              "10000"
            ]
          },
          "metadata": {
            "tags": []
          },
          "execution_count": 43
        }
      ]
    },
    {
      "cell_type": "code",
      "metadata": {
        "colab": {
          "base_uri": "https://localhost:8080/"
        },
        "id": "pb3J_Crc8uD0",
        "outputId": "5d98614f-3747-43b7-fb39-655c8c7c6c8a"
      },
      "source": [
        "test_labels"
      ],
      "execution_count": 44,
      "outputs": [
        {
          "output_type": "execute_result",
          "data": {
            "text/plain": [
              "array([7, 2, 1, ..., 4, 5, 6], dtype=uint8)"
            ]
          },
          "metadata": {
            "tags": []
          },
          "execution_count": 44
        }
      ]
    },
    {
      "cell_type": "markdown",
      "metadata": {
        "id": "PNS8l7CW8uD0"
      },
      "source": [
        "**Question 2.1 (1 points)** What is the size of the training and testing dataset for MNIST, respectively?"
      ]
    },
    {
      "cell_type": "markdown",
      "metadata": {
        "id": "cOwR1ORs8uD0"
      },
      "source": [
        "<font size=8 color=\"#009600\">&#9998;</font> 60,000, 10,000"
      ]
    },
    {
      "cell_type": "markdown",
      "metadata": {
        "id": "8WgJCXeX8uD0"
      },
      "source": [
        "**Question 2.2 (2 points)** Make a histogram for the training label. Is this dataset balanced?"
      ]
    },
    {
      "cell_type": "code",
      "metadata": {
        "colab": {
          "base_uri": "https://localhost:8080/",
          "height": 340
        },
        "id": "JenEqI__8uD0",
        "outputId": "2cfa45d1-d847-4cca-bddf-79fc8db69f4d"
      },
      "source": [
        "### Put your code here ###\n",
        "plt.hist(train_labels)"
      ],
      "execution_count": 45,
      "outputs": [
        {
          "output_type": "execute_result",
          "data": {
            "text/plain": [
              "(array([5923., 6742., 5958., 6131., 5842., 5421., 5918., 6265., 5851.,\n",
              "        5949.]),\n",
              " array([0. , 0.9, 1.8, 2.7, 3.6, 4.5, 5.4, 6.3, 7.2, 8.1, 9. ]),\n",
              " <a list of 10 Patch objects>)"
            ]
          },
          "metadata": {
            "tags": []
          },
          "execution_count": 45
        },
        {
          "output_type": "display_data",
          "data": {
            "image/png": "[encoded data removed]",
            "text/plain": [
              "<Figure size 432x288 with 1 Axes>"
            ]
          },
          "metadata": {
            "tags": [],
            "needs_background": "light"
          }
        }
      ]
    },
    {
      "cell_type": "markdown",
      "metadata": {
        "id": "MjJM0X3Q_eEx"
      },
      "source": [
        "Yes is it mostly balanced"
      ]
    },
    {
      "cell_type": "markdown",
      "metadata": {
        "id": "GU_Gf5oz8uD0"
      },
      "source": [
        "We can also take a look at the individual images."
      ]
    },
    {
      "cell_type": "code",
      "metadata": {
        "colab": {
          "base_uri": "https://localhost:8080/",
          "height": 283
        },
        "id": "kOOy8XEv8uD0",
        "outputId": "be83f7df-4645-406b-ecd8-052087b8b331"
      },
      "source": [
        "digit = train_images[6]\n",
        "plt.imshow(digit, cmap=plt.cm.binary)\n",
        "train_labels[6]"
      ],
      "execution_count": 46,
      "outputs": [
        {
          "output_type": "execute_result",
          "data": {
            "text/plain": [
              "1"
            ]
          },
          "metadata": {
            "tags": []
          },
          "execution_count": 46
        },
        {
          "output_type": "display_data",
          "data": {
            "image/png": "[encoded data removed]",
            "text/plain": [
              "<Figure size 432x288 with 1 Axes>"
            ]
          },
          "metadata": {
            "tags": [],
            "needs_background": "light"
          }
        }
      ]
    },
    {
      "cell_type": "markdown",
      "metadata": {
        "id": "RnI2thYo8uD0"
      },
      "source": [
        "\n",
        "Before training, we will preprocess our data by reshaping it into the shape that the network expects, and scaling it so that all values are in \n",
        "the `[0, 1]` interval. Previously, our training images for instance were stored in an array of shape `(60000, 28, 28)` of type `uint8` with \n",
        "values in the `[0, 255]` interval. We transform it into a `float32` array of shape `(60000, 28 * 28)` with values between 0 and 1."
      ]
    },
    {
      "cell_type": "code",
      "metadata": {
        "id": "qud02sZ48uD0"
      },
      "source": [
        "train_images = train_images.reshape(train_images.shape[0],-1)/255.0\n",
        "test_images = test_images.reshape(test_images.shape[0],-1)/255.0"
      ],
      "execution_count": 47,
      "outputs": []
    },
    {
      "cell_type": "markdown",
      "metadata": {
        "id": "8HF9gg6g8uD0"
      },
      "source": [
        "We also need to categorically encode the labels."
      ]
    },
    {
      "cell_type": "code",
      "metadata": {
        "id": "-cYFiG4q8uD0"
      },
      "source": [
        "train_labels = to_categorical(train_labels)\n",
        "test_labels = to_categorical(test_labels)"
      ],
      "execution_count": 48,
      "outputs": []
    },
    {
      "cell_type": "markdown",
      "metadata": {
        "id": "lzrmz4B28uD0"
      },
      "source": [
        "Let’s start our neural network models.\n",
        "\n",
        "\n",
        "\n",
        "<img src=\"https://miro.medium.com/max/1400/1*K0D3JOZJUTxX4Q-9CpiALw.jpeg\" width= 800><p style=\"text-align: right;\">\n",
        "\n"
      ]
    },
    {
      "cell_type": "markdown",
      "metadata": {
        "id": "V-1V9_7Z8uD0"
      },
      "source": [
        "Our workflow will be as follow: first we will present our neural network with the training data, `train_images` and `train_labels`. The \n",
        "network will then learn to associate images and labels. Finally, we will ask the network to produce predictions for `test_images`, and we \n",
        "will verify if these predictions match the labels from `test_labels`.\n",
        "\n",
        "Let's build our network.\n",
        "\n"
      ]
    },
    {
      "cell_type": "code",
      "metadata": {
        "id": "Bq9_cs2D8uD0"
      },
      "source": [
        "network = Sequential()\n",
        "network.add(Dense(10, input_dim=784, activation='relu'))\n",
        "network.add(Dense(10, activation='softmax'))\n",
        "network.compile(optimizer='rmsprop',\n",
        "                loss='categorical_crossentropy',\n",
        "                metrics=['accuracy'])"
      ],
      "execution_count": 49,
      "outputs": []
    },
    {
      "cell_type": "markdown",
      "metadata": {
        "id": "iXjLDrZX8uD0"
      },
      "source": [
        "The Sequential model is the easiest model Keras has. The first line of `model.add` method is adding your hidden layer with 10 cells, coming from 784 input cells.\n",
        "\n",
        "The second add method is adding your output layer to the network. This has 10 cells.\n",
        "\n",
        "The Relu and Softmax activation options are non-linear. Being able to use non-linear data makes Neural Network particularly useful. Generally, neural networks can map any data distribution at any level of complexity.\n",
        "You don’t have to know what Relu and Softmax are.  You just need to follow these tips:\n",
        "1. Use Relu whenever possible, on every hidden layer.\n",
        "2. Use Softmax on output layers with more than two categories to be predicted.\n",
        "3. Use Sigmoid on an output layer with two categories.\n",
        "\n",
        "After creating your model, call `compile` method to finish your model. It usually takes three parameters. Always use `categorical_crossentropy` for multi-categories, and `binary_crossentropy` for two categories. Use `adam` or `rmsprop` as the optimizer since both of them are pretty good. And you need accuracy as the `metric` to check your network performance."
      ]
    },
    {
      "cell_type": "markdown",
      "metadata": {
        "id": "A6FmQ5vD8uD0"
      },
      "source": [
        "We are now ready to train our network, which in Keras is done via a call to the `fit` method of the network: \n",
        "we \"fit\" the model to its training data.  We will use 10% of the training data as the validation data, hence validation_split was set to 0.1."
      ]
    },
    {
      "cell_type": "code",
      "metadata": {
        "colab": {
          "base_uri": "https://localhost:8080/"
        },
        "id": "edciAzWI8uD0",
        "outputId": "1aa699b5-3f33-4ed3-cc10-99702283b96a"
      },
      "source": [
        "history=network.fit(train_images, train_labels, epochs=20,  validation_split=0.1)"
      ],
      "execution_count": 50,
      "outputs": [
        {
          "output_type": "stream",
          "text": [
            "Epoch 1/20\n",
            "1688/1688 [==============================] - 2s 1ms/step - loss: 0.5782 - accuracy: 0.8394 - val_loss: 0.2826 - val_accuracy: 0.9207\n",
            "Epoch 2/20\n",
            "1688/1688 [==============================] - 2s 1ms/step - loss: 0.3187 - accuracy: 0.9088 - val_loss: 0.2460 - val_accuracy: 0.9305\n",
            "Epoch 3/20\n",
            "1688/1688 [==============================] - 2s 1ms/step - loss: 0.2911 - accuracy: 0.9176 - val_loss: 0.2314 - val_accuracy: 0.9357\n",
            "Epoch 4/20\n",
            "1688/1688 [==============================] - 2s 1ms/step - loss: 0.2756 - accuracy: 0.9219 - val_loss: 0.2224 - val_accuracy: 0.9378\n",
            "Epoch 5/20\n",
            "1688/1688 [==============================] - 2s 1ms/step - loss: 0.2643 - accuracy: 0.9256 - val_loss: 0.2171 - val_accuracy: 0.9400\n",
            "Epoch 6/20\n",
            "1688/1688 [==============================] - 2s 1ms/step - loss: 0.2556 - accuracy: 0.9287 - val_loss: 0.2117 - val_accuracy: 0.9398\n",
            "Epoch 7/20\n",
            "1688/1688 [==============================] - 2s 1ms/step - loss: 0.2496 - accuracy: 0.9298 - val_loss: 0.2025 - val_accuracy: 0.9430\n",
            "Epoch 8/20\n",
            "1688/1688 [==============================] - 2s 1ms/step - loss: 0.2436 - accuracy: 0.9316 - val_loss: 0.2017 - val_accuracy: 0.9415\n",
            "Epoch 9/20\n",
            "1688/1688 [==============================] - 2s 1ms/step - loss: 0.2392 - accuracy: 0.9329 - val_loss: 0.2005 - val_accuracy: 0.9448\n",
            "Epoch 10/20\n",
            "1688/1688 [==============================] - 2s 1ms/step - loss: 0.2355 - accuracy: 0.9353 - val_loss: 0.2016 - val_accuracy: 0.9432\n",
            "Epoch 11/20\n",
            "1688/1688 [==============================] - 2s 1ms/step - loss: 0.2322 - accuracy: 0.9353 - val_loss: 0.2010 - val_accuracy: 0.9452\n",
            "Epoch 12/20\n",
            "1688/1688 [==============================] - 2s 1ms/step - loss: 0.2300 - accuracy: 0.9368 - val_loss: 0.2039 - val_accuracy: 0.9435\n",
            "Epoch 13/20\n",
            "1688/1688 [==============================] - 2s 1ms/step - loss: 0.2274 - accuracy: 0.9363 - val_loss: 0.2050 - val_accuracy: 0.9430\n",
            "Epoch 14/20\n",
            "1688/1688 [==============================] - 2s 1ms/step - loss: 0.2248 - accuracy: 0.9380 - val_loss: 0.2027 - val_accuracy: 0.9435\n",
            "Epoch 15/20\n",
            "1688/1688 [==============================] - 2s 1ms/step - loss: 0.2225 - accuracy: 0.9382 - val_loss: 0.2001 - val_accuracy: 0.9458\n",
            "Epoch 16/20\n",
            "1688/1688 [==============================] - 2s 1ms/step - loss: 0.2218 - accuracy: 0.9380 - val_loss: 0.1990 - val_accuracy: 0.9448\n",
            "Epoch 17/20\n",
            "1688/1688 [==============================] - 2s 1ms/step - loss: 0.2200 - accuracy: 0.9395 - val_loss: 0.2041 - val_accuracy: 0.9460\n",
            "Epoch 18/20\n",
            "1688/1688 [==============================] - 2s 1ms/step - loss: 0.2183 - accuracy: 0.9397 - val_loss: 0.2056 - val_accuracy: 0.9407\n",
            "Epoch 19/20\n",
            "1688/1688 [==============================] - 2s 1ms/step - loss: 0.2174 - accuracy: 0.9408 - val_loss: 0.1995 - val_accuracy: 0.9453\n",
            "Epoch 20/20\n",
            "1688/1688 [==============================] - 2s 1ms/step - loss: 0.2156 - accuracy: 0.9409 - val_loss: 0.1990 - val_accuracy: 0.9453\n"
          ],
          "name": "stdout"
        }
      ]
    },
    {
      "cell_type": "markdown",
      "metadata": {
        "id": "rrpvE1Qr8uD0"
      },
      "source": [
        "Four quantities are being displayed during training: the \"loss\" of the network over the training and validation data, and the accuracy of the network over \n",
        "the training and validation data.\n",
        "\n",
        "`epoch` is the number of training loops we will do. One epoch will expose all of our training data once to the network. More epochs means the network will know better about our data.\n",
        "\n",
        "We can plot a history of training and validation loss and accuracy."
      ]
    },
    {
      "cell_type": "code",
      "metadata": {
        "colab": {
          "base_uri": "https://localhost:8080/",
          "height": 573
        },
        "id": "ZjFiU0tI8uD0",
        "outputId": "27192122-0349-46ef-9c67-b07ef2ce707d"
      },
      "source": [
        "plt.clf()   # clear figure\n",
        "\n",
        "loss = history.history['loss']\n",
        "val_loss = history.history['val_loss']\n",
        "\n",
        "epochs = range(1, len(loss) + 1)\n",
        "\n",
        "plt.plot(epochs, loss, 'bo', label='Training loss')\n",
        "plt.plot(epochs, val_loss, 'b', label='Validation loss')\n",
        "plt.title('Training and validation loss')\n",
        "plt.xlabel('Epochs')\n",
        "plt.ylabel('Loss')\n",
        "plt.legend()\n",
        "\n",
        "plt.show()\n",
        "\n",
        "acc = history.history['accuracy']\n",
        "val_acc = history.history['val_accuracy']\n",
        "epochs=range(1, len(acc)+1)\n",
        "\n",
        "plt.plot(epochs, acc, 'bo', label='Training acc')\n",
        "plt.plot(epochs, val_acc, 'b', label='Validation acc')\n",
        "plt.title('Training and validation accuracy')\n",
        "plt.xlabel('Epochs')\n",
        "plt.ylabel('Accuracy')\n",
        "plt.legend()\n",
        "\n",
        "plt.show()"
      ],
      "execution_count": 51,
      "outputs": [
        {
          "output_type": "display_data",
          "data": {
            "image/png": "[encoded data removed]",
            "text/plain": [
              "<Figure size 432x288 with 1 Axes>"
            ]
          },
          "metadata": {
            "tags": [],
            "needs_background": "light"
          }
        },
        {
          "output_type": "display_data",
          "data": {
            "image/png": "[encoded data removed]",
            "text/plain": [
              "<Figure size 432x288 with 1 Axes>"
            ]
          },
          "metadata": {
            "tags": [],
            "needs_background": "light"
          }
        }
      ]
    },
    {
      "cell_type": "markdown",
      "metadata": {
        "id": "FBzRd3hF8uD1"
      },
      "source": [
        "\n",
        "The dots are the training loss and accuracy, while the solid lines are the validation loss and accuracy. *Note that your own results may vary \n",
        "slightly due to a different random initialization of your network.*\n",
        "\n",
        "As you can see, the training loss decreases with every epoch and the training accuracy increases with every epoch. That's what you would \n",
        "expect when running gradient descent optimization -- the quantity you are trying to minimize should get lower with every iteration. But that \n",
        "isn't the case for the validation loss and accuracy: they seem to peak at the eleventh epoch.  What you are seeing is **overfitting**: after the 11th epoch, we are over-optimizing on the training data, and we \n",
        "ended up learning representations that are specific to the training data and do not generalize to data outside of the training set.\n",
        "\n",
        "In this case, to prevent overfitting, we could simply stop training after 10 epochs.\n",
        "\n",
        "**Question 2.3 (2 points)**  Let's train a new network from scratch for 10 epochs. "
      ]
    },
    {
      "cell_type": "code",
      "metadata": {
        "id": "ZI8iGOFC8uD1"
      },
      "source": [
        "### Put your code here ###\n"
      ],
      "execution_count": 52,
      "outputs": []
    },
    {
      "cell_type": "code",
      "metadata": {
        "colab": {
          "base_uri": "https://localhost:8080/"
        },
        "id": "lRFpmIvQ8uD1",
        "outputId": "f5af25a7-f6cf-40f4-b392-531300744791"
      },
      "source": [
        "### Answer ###\n",
        "\n",
        "network = Sequential()\n",
        "network.add(Dense(10, input_dim=784, activation='relu'))\n",
        "network.add(Dense(10, activation='softmax'))\n",
        "network.compile(optimizer='rmsprop',\n",
        "                loss='categorical_crossentropy',\n",
        "                metrics=['accuracy'])\n",
        "history=network.fit(train_images, train_labels, epochs=10,  validation_split=0.1)"
      ],
      "execution_count": 53,
      "outputs": [
        {
          "output_type": "stream",
          "text": [
            "Epoch 1/10\n",
            "1688/1688 [==============================] - 2s 1ms/step - loss: 0.5669 - accuracy: 0.8402 - val_loss: 0.2816 - val_accuracy: 0.9210\n",
            "Epoch 2/10\n",
            "1688/1688 [==============================] - 2s 1ms/step - loss: 0.3170 - accuracy: 0.9104 - val_loss: 0.2443 - val_accuracy: 0.9297\n",
            "Epoch 3/10\n",
            "1688/1688 [==============================] - 2s 1ms/step - loss: 0.2890 - accuracy: 0.9193 - val_loss: 0.2308 - val_accuracy: 0.9300\n",
            "Epoch 4/10\n",
            "1688/1688 [==============================] - 2s 1ms/step - loss: 0.2756 - accuracy: 0.9222 - val_loss: 0.2414 - val_accuracy: 0.9335\n",
            "Epoch 5/10\n",
            "1688/1688 [==============================] - 2s 1ms/step - loss: 0.2678 - accuracy: 0.9257 - val_loss: 0.2259 - val_accuracy: 0.9370\n",
            "Epoch 6/10\n",
            "1688/1688 [==============================] - 2s 1ms/step - loss: 0.2619 - accuracy: 0.9266 - val_loss: 0.2239 - val_accuracy: 0.9360\n",
            "Epoch 7/10\n",
            "1688/1688 [==============================] - 2s 1ms/step - loss: 0.2580 - accuracy: 0.9287 - val_loss: 0.2236 - val_accuracy: 0.9370\n",
            "Epoch 8/10\n",
            "1688/1688 [==============================] - 2s 1ms/step - loss: 0.2535 - accuracy: 0.9301 - val_loss: 0.2248 - val_accuracy: 0.9355\n",
            "Epoch 9/10\n",
            "1688/1688 [==============================] - 2s 1ms/step - loss: 0.2508 - accuracy: 0.9315 - val_loss: 0.2299 - val_accuracy: 0.9343\n",
            "Epoch 10/10\n",
            "1688/1688 [==============================] - 2s 1ms/step - loss: 0.2472 - accuracy: 0.9322 - val_loss: 0.2227 - val_accuracy: 0.9390\n"
          ],
          "name": "stdout"
        }
      ]
    },
    {
      "cell_type": "markdown",
      "metadata": {
        "id": "78Vyr8M08uD1"
      },
      "source": [
        "We can now evaluate the result on our test data."
      ]
    },
    {
      "cell_type": "code",
      "metadata": {
        "colab": {
          "base_uri": "https://localhost:8080/"
        },
        "id": "JHwHw1jT8uD1",
        "outputId": "d1fa73b0-d1a3-4551-f83a-7ca9d3943703"
      },
      "source": [
        "test_loss, test_acc = network.evaluate(test_images, test_labels)\n",
        "print('test_acc:', test_acc)"
      ],
      "execution_count": 54,
      "outputs": [
        {
          "output_type": "stream",
          "text": [
            "313/313 [==============================] - 0s 935us/step - loss: 0.2632 - accuracy: 0.9267\n",
            "test_acc: 0.9266999959945679\n"
          ],
          "name": "stdout"
        }
      ]
    },
    {
      "cell_type": "markdown",
      "metadata": {
        "id": "yGnzDP728uD1"
      },
      "source": [
        "**Question 2.4 (1 points)**  Run the code above. What is the testing accuracy?"
      ]
    },
    {
      "cell_type": "markdown",
      "metadata": {
        "id": "aqVzzMY18uD1"
      },
      "source": [
        "<font size=8 color=\"#009600\">&#9998;</font> .93"
      ]
    },
    {
      "cell_type": "markdown",
      "metadata": {
        "id": "Ykh6Obej8uD1"
      },
      "source": [
        "\n",
        "This concludes our very first example -- you just saw how we could build and a train a neural network to classify handwritten digits, in \n",
        "less than 20 lines of Python code!"
      ]
    },
    {
      "cell_type": "markdown",
      "metadata": {
        "id": "O0lksfTO8uD1"
      },
      "source": [
        "## Part 3: Classifying Fashion-MNIST data (19 points)\n",
        "\n",
        "\n",
        "We will now work on another dataset called fashion MNIST. Fashion MNIST is a dataset of ten categories of clothing and accessories, in grayscales. \n",
        "\n",
        "\n",
        "<img src=\"https://miro.medium.com/max/1400/1*9yRVzjQpH7LW8QWGbKFKww.png\" width= 800><p style=\"text-align: right;\">"
      ]
    },
    {
      "cell_type": "markdown",
      "metadata": {
        "id": "mPn0Fkuv8uD1"
      },
      "source": [
        "**Question 3.1 (2 points)**   Load the Fashion-MNIST dataset. *Hint: Keras has this dataset preloaded. Look at the import at the beginning of this notebook*"
      ]
    },
    {
      "cell_type": "code",
      "metadata": {
        "id": "QkFH3XGB8uD1"
      },
      "source": [
        "### Put your code here ###\n",
        "(train_images, train_labels), (test_images, test_labels)=fashion_mnist.load_data()"
      ],
      "execution_count": 55,
      "outputs": []
    },
    {
      "cell_type": "markdown",
      "metadata": {
        "id": "fKFDVtBP8uD1"
      },
      "source": [
        "**Question 3.2 (3 points)** Explore the data. Find the size of the training and testing dataset. How many categories are in the labels?"
      ]
    },
    {
      "cell_type": "code",
      "metadata": {
        "colab": {
          "base_uri": "https://localhost:8080/"
        },
        "id": "CQcuznja8uD1",
        "outputId": "da9f6395-15f8-446c-fc24-c174779ca81e"
      },
      "source": [
        "### Put your code here ###\n",
        "train_images.shape"
      ],
      "execution_count": 56,
      "outputs": [
        {
          "output_type": "execute_result",
          "data": {
            "text/plain": [
              "(60000, 28, 28)"
            ]
          },
          "metadata": {
            "tags": []
          },
          "execution_count": 56
        }
      ]
    },
    {
      "cell_type": "code",
      "metadata": {
        "colab": {
          "base_uri": "https://localhost:8080/"
        },
        "id": "EcLvUln3DSTz",
        "outputId": "3cb131df-0cfa-43ce-8fa2-85b87e84cf7b"
      },
      "source": [
        "test_images.shape"
      ],
      "execution_count": 57,
      "outputs": [
        {
          "output_type": "execute_result",
          "data": {
            "text/plain": [
              "(10000, 28, 28)"
            ]
          },
          "metadata": {
            "tags": []
          },
          "execution_count": 57
        }
      ]
    },
    {
      "cell_type": "code",
      "metadata": {
        "colab": {
          "base_uri": "https://localhost:8080/"
        },
        "id": "22DNlPq5C45_",
        "outputId": "98033272-aa8c-4898-f646-77a2f4e38606"
      },
      "source": [
        "np.unique(train_labels)"
      ],
      "execution_count": 58,
      "outputs": [
        {
          "output_type": "execute_result",
          "data": {
            "text/plain": [
              "array([0, 1, 2, 3, 4, 5, 6, 7, 8, 9], dtype=uint8)"
            ]
          },
          "metadata": {
            "tags": []
          },
          "execution_count": 58
        }
      ]
    },
    {
      "cell_type": "code",
      "metadata": {
        "colab": {
          "base_uri": "https://localhost:8080/",
          "height": 337
        },
        "id": "aRlIEIUqDKny",
        "outputId": "0d946e89-8042-4820-f726-c5463a66e095"
      },
      "source": [
        "plt.hist(train_labels)"
      ],
      "execution_count": 59,
      "outputs": [
        {
          "output_type": "execute_result",
          "data": {
            "text/plain": [
              "(array([6000., 6000., 6000., 6000., 6000., 6000., 6000., 6000., 6000.,\n",
              "        6000.]),\n",
              " array([0. , 0.9, 1.8, 2.7, 3.6, 4.5, 5.4, 6.3, 7.2, 8.1, 9. ]),\n",
              " <a list of 10 Patch objects>)"
            ]
          },
          "metadata": {
            "tags": []
          },
          "execution_count": 59
        },
        {
          "output_type": "display_data",
          "data": {
            "image/png": "[encoded data removed]",
            "text/plain": [
              "<Figure size 432x288 with 1 Axes>"
            ]
          },
          "metadata": {
            "tags": [],
            "needs_background": "light"
          }
        }
      ]
    },
    {
      "cell_type": "markdown",
      "metadata": {
        "id": "jntr-zMYDZCC"
      },
      "source": [
        "There are 10 categories"
      ]
    },
    {
      "cell_type": "markdown",
      "metadata": {
        "id": "4QsN5z6E8uD1"
      },
      "source": [
        "**Question 3.3 (2 points)** Plot the first couple of images in the training set and their labels. What do you observe?"
      ]
    },
    {
      "cell_type": "code",
      "metadata": {
        "colab": {
          "base_uri": "https://localhost:8080/",
          "height": 283
        },
        "id": "PAkH0i958uD1",
        "outputId": "d4d8e478-e035-4574-8a24-f6f80c0fb448"
      },
      "source": [
        "### Put your code here ###\n",
        "plt.imshow(train_images[0], cmap=plt.cm.binary)\n",
        "train_labels[0]"
      ],
      "execution_count": 60,
      "outputs": [
        {
          "output_type": "execute_result",
          "data": {
            "text/plain": [
              "9"
            ]
          },
          "metadata": {
            "tags": []
          },
          "execution_count": 60
        },
        {
          "output_type": "display_data",
          "data": {
            "image/png": "[encoded data removed]",
            "text/plain": [
              "<Figure size 432x288 with 1 Axes>"
            ]
          },
          "metadata": {
            "tags": [],
            "needs_background": "light"
          }
        }
      ]
    },
    {
      "cell_type": "code",
      "metadata": {
        "colab": {
          "base_uri": "https://localhost:8080/",
          "height": 283
        },
        "id": "Yyb6CCWlD1xK",
        "outputId": "ea51f168-08b6-4974-f758-97384e216f73"
      },
      "source": [
        "index = 1\n",
        "plt.imshow(train_images[index], cmap=plt.cm.binary)\n",
        "train_labels[index]"
      ],
      "execution_count": 61,
      "outputs": [
        {
          "output_type": "execute_result",
          "data": {
            "text/plain": [
              "0"
            ]
          },
          "metadata": {
            "tags": []
          },
          "execution_count": 61
        },
        {
          "output_type": "display_data",
          "data": {
            "image/png": "[encoded data removed]",
            "text/plain": [
              "<Figure size 432x288 with 1 Axes>"
            ]
          },
          "metadata": {
            "tags": [],
            "needs_background": "light"
          }
        }
      ]
    },
    {
      "cell_type": "code",
      "metadata": {
        "colab": {
          "base_uri": "https://localhost:8080/",
          "height": 283
        },
        "id": "PAIpwWo7D9U7",
        "outputId": "1783792c-a70c-4f87-b63b-608b7b9e3f26"
      },
      "source": [
        "index = 2\n",
        "plt.imshow(train_images[index], cmap=plt.cm.binary)\n",
        "train_labels[index]"
      ],
      "execution_count": 62,
      "outputs": [
        {
          "output_type": "execute_result",
          "data": {
            "text/plain": [
              "0"
            ]
          },
          "metadata": {
            "tags": []
          },
          "execution_count": 62
        },
        {
          "output_type": "display_data",
          "data": {
            "image/png": "[encoded data removed]",
            "text/plain": [
              "<Figure size 432x288 with 1 Axes>"
            ]
          },
          "metadata": {
            "tags": [],
            "needs_background": "light"
          }
        }
      ]
    },
    {
      "cell_type": "code",
      "metadata": {
        "colab": {
          "base_uri": "https://localhost:8080/",
          "height": 283
        },
        "id": "7pVYEYmUEDzS",
        "outputId": "00f2c8eb-d9c7-4f02-f4e5-ae8c9233aa7d"
      },
      "source": [
        "index = 3\n",
        "plt.imshow(train_images[index], cmap=plt.cm.binary)\n",
        "train_labels[index]"
      ],
      "execution_count": 63,
      "outputs": [
        {
          "output_type": "execute_result",
          "data": {
            "text/plain": [
              "3"
            ]
          },
          "metadata": {
            "tags": []
          },
          "execution_count": 63
        },
        {
          "output_type": "display_data",
          "data": {
            "image/png": "[encoded data removed]",
            "text/plain": [
              "<Figure size 432x288 with 1 Axes>"
            ]
          },
          "metadata": {
            "tags": [],
            "needs_background": "light"
          }
        }
      ]
    },
    {
      "cell_type": "code",
      "metadata": {
        "colab": {
          "base_uri": "https://localhost:8080/",
          "height": 283
        },
        "id": "edHeRf5OE1kR",
        "outputId": "9acc98e2-9fd0-422a-83d7-6252f57e1f1e"
      },
      "source": [
        "index = 20\n",
        "plt.imshow(train_images[index], cmap=plt.cm.binary)\n",
        "train_labels[index]"
      ],
      "execution_count": 64,
      "outputs": [
        {
          "output_type": "execute_result",
          "data": {
            "text/plain": [
              "3"
            ]
          },
          "metadata": {
            "tags": []
          },
          "execution_count": 64
        },
        {
          "output_type": "display_data",
          "data": {
            "image/png": "[encoded data removed]",
            "text/plain": [
              "<Figure size 432x288 with 1 Axes>"
            ]
          },
          "metadata": {
            "tags": [],
            "needs_background": "light"
          }
        }
      ]
    },
    {
      "cell_type": "markdown",
      "metadata": {
        "id": "zRsOKQcDE4lt"
      },
      "source": [
        "There seems to be broad categories for each class such as a shirts class that has t-shirts and tops."
      ]
    },
    {
      "cell_type": "markdown",
      "metadata": {
        "id": "WMWUG8Hi8uD1"
      },
      "source": [
        "**Question 3.4 (2 points)** Now following the previous example of MNIST, reshape the dataset and categorically encode the labels."
      ]
    },
    {
      "cell_type": "code",
      "metadata": {
        "id": "NgzvqIAc8uD1"
      },
      "source": [
        "### Put your code here ###\n",
        "train_images = train_images.reshape(train_images.shape[0],-1)/255.0\n",
        "test_images = test_images.reshape(test_images.shape[0],-1)/255.0\n",
        "train_labels = to_categorical(train_labels)\n",
        "test_labels = to_categorical(test_labels)"
      ],
      "execution_count": 77,
      "outputs": []
    },
    {
      "cell_type": "markdown",
      "metadata": {
        "id": "XUgUx5Fl8uD1"
      },
      "source": [
        "**Question 3.5 (5 points)** Build the network. Use the **same** network architecture and parameters as the MNIST example, and train with 10 epochs. What is the accuracy you see for this dataset? Do you observe overfitting during this training?"
      ]
    },
    {
      "cell_type": "code",
      "metadata": {
        "colab": {
          "base_uri": "https://localhost:8080/"
        },
        "id": "m8C3vTiS8uD1",
        "outputId": "69f933cf-3244-4e81-ee91-c064112ce2ce"
      },
      "source": [
        "### Put your code here ###\n",
        "network = Sequential()\n",
        "network.add(Dense(10, input_dim=784, activation='relu'))\n",
        "network.add(Dense(10, activation='softmax'))\n",
        "network.compile(optimizer='rmsprop',\n",
        "                loss='categorical_crossentropy',\n",
        "                metrics=['accuracy'])\n",
        "history=network.fit(train_images, train_labels, epochs=10,  validation_split=0.1)"
      ],
      "execution_count": 66,
      "outputs": [
        {
          "output_type": "stream",
          "text": [
            "Epoch 1/10\n",
            "1688/1688 [==============================] - 2s 1ms/step - loss: 0.6512 - accuracy: 0.7814 - val_loss: 0.5038 - val_accuracy: 0.8242\n",
            "Epoch 2/10\n",
            "1688/1688 [==============================] - 2s 1ms/step - loss: 0.4752 - accuracy: 0.8373 - val_loss: 0.4571 - val_accuracy: 0.8333\n",
            "Epoch 3/10\n",
            "1688/1688 [==============================] - 2s 1ms/step - loss: 0.4480 - accuracy: 0.8454 - val_loss: 0.6364 - val_accuracy: 0.7812\n",
            "Epoch 4/10\n",
            "1688/1688 [==============================] - 2s 1ms/step - loss: 0.4326 - accuracy: 0.8501 - val_loss: 0.4458 - val_accuracy: 0.8443\n",
            "Epoch 5/10\n",
            "1688/1688 [==============================] - 2s 1ms/step - loss: 0.4223 - accuracy: 0.8541 - val_loss: 0.4381 - val_accuracy: 0.8460\n",
            "Epoch 6/10\n",
            "1688/1688 [==============================] - 2s 1ms/step - loss: 0.4158 - accuracy: 0.8554 - val_loss: 0.4602 - val_accuracy: 0.8430\n",
            "Epoch 7/10\n",
            "1688/1688 [==============================] - 2s 1ms/step - loss: 0.4096 - accuracy: 0.8586 - val_loss: 0.4342 - val_accuracy: 0.8518\n",
            "Epoch 8/10\n",
            "1688/1688 [==============================] - 2s 1ms/step - loss: 0.4045 - accuracy: 0.8608 - val_loss: 0.4212 - val_accuracy: 0.8535\n",
            "Epoch 9/10\n",
            "1688/1688 [==============================] - 2s 1ms/step - loss: 0.4004 - accuracy: 0.8620 - val_loss: 0.4235 - val_accuracy: 0.8522\n",
            "Epoch 10/10\n",
            "1688/1688 [==============================] - 2s 1ms/step - loss: 0.3963 - accuracy: 0.8614 - val_loss: 0.4419 - val_accuracy: 0.8470\n"
          ],
          "name": "stdout"
        }
      ]
    },
    {
      "cell_type": "code",
      "metadata": {
        "colab": {
          "base_uri": "https://localhost:8080/",
          "height": 573
        },
        "id": "hnGilXArF4nq",
        "outputId": "04c39d90-8327-4b26-8dcb-89d82dc97d3b"
      },
      "source": [
        "plt.clf()   # clear figure\n",
        "\n",
        "loss = history.history['loss']\n",
        "val_loss = history.history['val_loss']\n",
        "\n",
        "epochs = range(1, len(loss) + 1)\n",
        "\n",
        "plt.plot(epochs, loss, 'bo', label='Training loss')\n",
        "plt.plot(epochs, val_loss, 'b', label='Validation loss')\n",
        "plt.title('Training and validation loss')\n",
        "plt.xlabel('Epochs')\n",
        "plt.ylabel('Loss')\n",
        "plt.legend()\n",
        "\n",
        "plt.show()\n",
        "\n",
        "acc = history.history['accuracy']\n",
        "val_acc = history.history['val_accuracy']\n",
        "epochs=range(1, len(acc)+1)\n",
        "\n",
        "plt.plot(epochs, acc, 'bo', label='Training acc')\n",
        "plt.plot(epochs, val_acc, 'b', label='Validation acc')\n",
        "plt.title('Training and validation accuracy')\n",
        "plt.xlabel('Epochs')\n",
        "plt.ylabel('Accuracy')\n",
        "plt.legend()\n",
        "\n",
        "plt.show()"
      ],
      "execution_count": 67,
      "outputs": [
        {
          "output_type": "display_data",
          "data": {
            "image/png": "[encoded data removed]",
            "text/plain": [
              "<Figure size 432x288 with 1 Axes>"
            ]
          },
          "metadata": {
            "tags": [],
            "needs_background": "light"
          }
        },
        {
          "output_type": "display_data",
          "data": {
            "image/png": "[encoded data removed]",
            "text/plain": [
              "<Figure size 432x288 with 1 Axes>"
            ]
          },
          "metadata": {
            "tags": [],
            "needs_background": "light"
          }
        }
      ]
    },
    {
      "cell_type": "markdown",
      "metadata": {
        "id": "YiuDNJJdGCkb"
      },
      "source": [
        "This model has an accuracy of 85%. From the graphs however, it looks like there was an overfitting around the 8th epoch."
      ]
    },
    {
      "cell_type": "markdown",
      "metadata": {
        "id": "TCKrBfZ_8uD1"
      },
      "source": [
        "You should have got a decent accuracy out of this dataset too, but not as high as the accuracy from the MNIST dataset, because the images here are more complicated. Now to improve the accuracy, you can try to widen/deepend the feedforward neural network. You are encouraged to look at the previous example and search on the internet on how to do that. As long as you see some improvement, it will be fine.\n",
        "\n",
        "**Question 3.6 (5 points)** Try changing the network architecture (deepen/widen the network) to improve the accuracy. What changes did you make? What accuracy did you get this time?"
      ]
    },
    {
      "cell_type": "code",
      "metadata": {
        "id": "-p4QSFws8uD2"
      },
      "source": [
        ""
      ],
      "execution_count": 84,
      "outputs": []
    },
    {
      "cell_type": "code",
      "metadata": {
        "colab": {
          "base_uri": "https://localhost:8080/"
        },
        "id": "Nc46LIRqNy0h",
        "outputId": "84a89289-0bbe-4ee0-93ec-0355ef185461"
      },
      "source": [
        "train_images.shape"
      ],
      "execution_count": 82,
      "outputs": [
        {
          "output_type": "execute_result",
          "data": {
            "text/plain": [
              "(60000, 784)"
            ]
          },
          "metadata": {
            "tags": []
          },
          "execution_count": 82
        }
      ]
    },
    {
      "cell_type": "code",
      "metadata": {
        "colab": {
          "base_uri": "https://localhost:8080/",
          "height": 430
        },
        "id": "1rptBpovMiP8",
        "outputId": "858956a2-375e-42c9-d57c-f8f712cb5925"
      },
      "source": [
        "test_loss, test_acc = network.evaluate(test_images, test_labels)\n",
        "print('test_acc:', test_acc)"
      ],
      "execution_count": 85,
      "outputs": [
        {
          "output_type": "error",
          "ename": "InvalidArgumentError",
          "evalue": "ignored",
          "traceback": [
            "\u001b[0;31m---------------------------------------------------------------------------\u001b[0m",
            "\u001b[0;31mInvalidArgumentError\u001b[0m                      Traceback (most recent call last)",
            "\u001b[0;32m<ipython-input-85-e743fa934cf5>\u001b[0m in \u001b[0;36m<module>\u001b[0;34m()\u001b[0m\n\u001b[0;32m----> 1\u001b[0;31m \u001b[0mtest_loss\u001b[0m\u001b[0;34m,\u001b[0m \u001b[0mtest_acc\u001b[0m \u001b[0;34m=\u001b[0m \u001b[0mnetwork\u001b[0m\u001b[0;34m.\u001b[0m\u001b[0mevaluate\u001b[0m\u001b[0;34m(\u001b[0m\u001b[0mtest_images\u001b[0m\u001b[0;34m,\u001b[0m \u001b[0mtest_labels\u001b[0m\u001b[0;34m)\u001b[0m\u001b[0;34m\u001b[0m\u001b[0;34m\u001b[0m\u001b[0m\n\u001b[0m\u001b[1;32m      2\u001b[0m \u001b[0mprint\u001b[0m\u001b[0;34m(\u001b[0m\u001b[0;34m'test_acc:'\u001b[0m\u001b[0;34m,\u001b[0m \u001b[0mtest_acc\u001b[0m\u001b[0;34m)\u001b[0m\u001b[0;34m\u001b[0m\u001b[0;34m\u001b[0m\u001b[0m\n",
            "\u001b[0;32m/usr/local/lib/python3.6/dist-packages/tensorflow/python/keras/engine/training.py\u001b[0m in \u001b[0;36m_method_wrapper\u001b[0;34m(self, *args, **kwargs)\u001b[0m\n\u001b[1;32m    106\u001b[0m   \u001b[0;32mdef\u001b[0m \u001b[0m_method_wrapper\u001b[0m\u001b[0;34m(\u001b[0m\u001b[0mself\u001b[0m\u001b[0;34m,\u001b[0m \u001b[0;34m*\u001b[0m\u001b[0margs\u001b[0m\u001b[0;34m,\u001b[0m \u001b[0;34m**\u001b[0m\u001b[0mkwargs\u001b[0m\u001b[0;34m)\u001b[0m\u001b[0;34m:\u001b[0m\u001b[0;34m\u001b[0m\u001b[0;34m\u001b[0m\u001b[0m\n\u001b[1;32m    107\u001b[0m     \u001b[0;32mif\u001b[0m \u001b[0;32mnot\u001b[0m \u001b[0mself\u001b[0m\u001b[0;34m.\u001b[0m\u001b[0m_in_multi_worker_mode\u001b[0m\u001b[0;34m(\u001b[0m\u001b[0;34m)\u001b[0m\u001b[0;34m:\u001b[0m  \u001b[0;31m# pylint: disable=protected-access\u001b[0m\u001b[0;34m\u001b[0m\u001b[0;34m\u001b[0m\u001b[0m\n\u001b[0;32m--> 108\u001b[0;31m       \u001b[0;32mreturn\u001b[0m \u001b[0mmethod\u001b[0m\u001b[0;34m(\u001b[0m\u001b[0mself\u001b[0m\u001b[0;34m,\u001b[0m \u001b[0;34m*\u001b[0m\u001b[0margs\u001b[0m\u001b[0;34m,\u001b[0m \u001b[0;34m**\u001b[0m\u001b[0mkwargs\u001b[0m\u001b[0;34m)\u001b[0m\u001b[0;34m\u001b[0m\u001b[0;34m\u001b[0m\u001b[0m\n\u001b[0m\u001b[1;32m    109\u001b[0m \u001b[0;34m\u001b[0m\u001b[0m\n\u001b[1;32m    110\u001b[0m     \u001b[0;31m# Running inside `run_distribute_coordinator` already.\u001b[0m\u001b[0;34m\u001b[0m\u001b[0;34m\u001b[0m\u001b[0;34m\u001b[0m\u001b[0m\n",
            "\u001b[0;32m/usr/local/lib/python3.6/dist-packages/tensorflow/python/keras/engine/training.py\u001b[0m in \u001b[0;36mevaluate\u001b[0;34m(self, x, y, batch_size, verbose, sample_weight, steps, callbacks, max_queue_size, workers, use_multiprocessing, return_dict)\u001b[0m\n\u001b[1;32m   1377\u001b[0m             \u001b[0;32mwith\u001b[0m \u001b[0mtrace\u001b[0m\u001b[0;34m.\u001b[0m\u001b[0mTrace\u001b[0m\u001b[0;34m(\u001b[0m\u001b[0;34m'TraceContext'\u001b[0m\u001b[0;34m,\u001b[0m \u001b[0mgraph_type\u001b[0m\u001b[0;34m=\u001b[0m\u001b[0;34m'test'\u001b[0m\u001b[0;34m,\u001b[0m \u001b[0mstep_num\u001b[0m\u001b[0;34m=\u001b[0m\u001b[0mstep\u001b[0m\u001b[0;34m)\u001b[0m\u001b[0;34m:\u001b[0m\u001b[0;34m\u001b[0m\u001b[0;34m\u001b[0m\u001b[0m\n\u001b[1;32m   1378\u001b[0m               \u001b[0mcallbacks\u001b[0m\u001b[0;34m.\u001b[0m\u001b[0mon_test_batch_begin\u001b[0m\u001b[0;34m(\u001b[0m\u001b[0mstep\u001b[0m\u001b[0;34m)\u001b[0m\u001b[0;34m\u001b[0m\u001b[0;34m\u001b[0m\u001b[0m\n\u001b[0;32m-> 1379\u001b[0;31m               \u001b[0mtmp_logs\u001b[0m \u001b[0;34m=\u001b[0m \u001b[0mtest_function\u001b[0m\u001b[0;34m(\u001b[0m\u001b[0miterator\u001b[0m\u001b[0;34m)\u001b[0m\u001b[0;34m\u001b[0m\u001b[0;34m\u001b[0m\u001b[0m\n\u001b[0m\u001b[1;32m   1380\u001b[0m               \u001b[0;32mif\u001b[0m \u001b[0mdata_handler\u001b[0m\u001b[0;34m.\u001b[0m\u001b[0mshould_sync\u001b[0m\u001b[0;34m:\u001b[0m\u001b[0;34m\u001b[0m\u001b[0;34m\u001b[0m\u001b[0m\n\u001b[1;32m   1381\u001b[0m                 \u001b[0mcontext\u001b[0m\u001b[0;34m.\u001b[0m\u001b[0masync_wait\u001b[0m\u001b[0;34m(\u001b[0m\u001b[0;34m)\u001b[0m\u001b[0;34m\u001b[0m\u001b[0;34m\u001b[0m\u001b[0m\n",
            "\u001b[0;32m/usr/local/lib/python3.6/dist-packages/tensorflow/python/eager/def_function.py\u001b[0m in \u001b[0;36m__call__\u001b[0;34m(self, *args, **kwds)\u001b[0m\n\u001b[1;32m    778\u001b[0m       \u001b[0;32melse\u001b[0m\u001b[0;34m:\u001b[0m\u001b[0;34m\u001b[0m\u001b[0;34m\u001b[0m\u001b[0m\n\u001b[1;32m    779\u001b[0m         \u001b[0mcompiler\u001b[0m \u001b[0;34m=\u001b[0m \u001b[0;34m\"nonXla\"\u001b[0m\u001b[0;34m\u001b[0m\u001b[0;34m\u001b[0m\u001b[0m\n\u001b[0;32m--> 780\u001b[0;31m         \u001b[0mresult\u001b[0m \u001b[0;34m=\u001b[0m \u001b[0mself\u001b[0m\u001b[0;34m.\u001b[0m\u001b[0m_call\u001b[0m\u001b[0;34m(\u001b[0m\u001b[0;34m*\u001b[0m\u001b[0margs\u001b[0m\u001b[0;34m,\u001b[0m \u001b[0;34m**\u001b[0m\u001b[0mkwds\u001b[0m\u001b[0;34m)\u001b[0m\u001b[0;34m\u001b[0m\u001b[0;34m\u001b[0m\u001b[0m\n\u001b[0m\u001b[1;32m    781\u001b[0m \u001b[0;34m\u001b[0m\u001b[0m\n\u001b[1;32m    782\u001b[0m       \u001b[0mnew_tracing_count\u001b[0m \u001b[0;34m=\u001b[0m \u001b[0mself\u001b[0m\u001b[0;34m.\u001b[0m\u001b[0m_get_tracing_count\u001b[0m\u001b[0;34m(\u001b[0m\u001b[0;34m)\u001b[0m\u001b[0;34m\u001b[0m\u001b[0;34m\u001b[0m\u001b[0m\n",
            "\u001b[0;32m/usr/local/lib/python3.6/dist-packages/tensorflow/python/eager/def_function.py\u001b[0m in \u001b[0;36m_call\u001b[0;34m(self, *args, **kwds)\u001b[0m\n\u001b[1;32m    844\u001b[0m               *args, **kwds)\n\u001b[1;32m    845\u001b[0m       \u001b[0;31m# If we did not create any variables the trace we have is good enough.\u001b[0m\u001b[0;34m\u001b[0m\u001b[0;34m\u001b[0m\u001b[0;34m\u001b[0m\u001b[0m\n\u001b[0;32m--> 846\u001b[0;31m       \u001b[0;32mreturn\u001b[0m \u001b[0mself\u001b[0m\u001b[0;34m.\u001b[0m\u001b[0m_concrete_stateful_fn\u001b[0m\u001b[0;34m.\u001b[0m\u001b[0m_filtered_call\u001b[0m\u001b[0;34m(\u001b[0m\u001b[0mcanon_args\u001b[0m\u001b[0;34m,\u001b[0m \u001b[0mcanon_kwds\u001b[0m\u001b[0;34m)\u001b[0m  \u001b[0;31m# pylint: disable=protected-access\u001b[0m\u001b[0;34m\u001b[0m\u001b[0;34m\u001b[0m\u001b[0m\n\u001b[0m\u001b[1;32m    847\u001b[0m \u001b[0;34m\u001b[0m\u001b[0m\n\u001b[1;32m    848\u001b[0m     \u001b[0;32mdef\u001b[0m \u001b[0mfn_with_cond\u001b[0m\u001b[0;34m(\u001b[0m\u001b[0;34m*\u001b[0m\u001b[0minner_args\u001b[0m\u001b[0;34m,\u001b[0m \u001b[0;34m**\u001b[0m\u001b[0minner_kwds\u001b[0m\u001b[0;34m)\u001b[0m\u001b[0;34m:\u001b[0m\u001b[0;34m\u001b[0m\u001b[0;34m\u001b[0m\u001b[0m\n",
            "\u001b[0;32m/usr/local/lib/python3.6/dist-packages/tensorflow/python/eager/function.py\u001b[0m in \u001b[0;36m_filtered_call\u001b[0;34m(self, args, kwargs, cancellation_manager)\u001b[0m\n\u001b[1;32m   1846\u001b[0m                            resource_variable_ops.BaseResourceVariable))],\n\u001b[1;32m   1847\u001b[0m         \u001b[0mcaptured_inputs\u001b[0m\u001b[0;34m=\u001b[0m\u001b[0mself\u001b[0m\u001b[0;34m.\u001b[0m\u001b[0mcaptured_inputs\u001b[0m\u001b[0;34m,\u001b[0m\u001b[0;34m\u001b[0m\u001b[0;34m\u001b[0m\u001b[0m\n\u001b[0;32m-> 1848\u001b[0;31m         cancellation_manager=cancellation_manager)\n\u001b[0m\u001b[1;32m   1849\u001b[0m \u001b[0;34m\u001b[0m\u001b[0m\n\u001b[1;32m   1850\u001b[0m   \u001b[0;32mdef\u001b[0m \u001b[0m_call_flat\u001b[0m\u001b[0;34m(\u001b[0m\u001b[0mself\u001b[0m\u001b[0;34m,\u001b[0m \u001b[0margs\u001b[0m\u001b[0;34m,\u001b[0m \u001b[0mcaptured_inputs\u001b[0m\u001b[0;34m,\u001b[0m \u001b[0mcancellation_manager\u001b[0m\u001b[0;34m=\u001b[0m\u001b[0;32mNone\u001b[0m\u001b[0;34m)\u001b[0m\u001b[0;34m:\u001b[0m\u001b[0;34m\u001b[0m\u001b[0;34m\u001b[0m\u001b[0m\n",
            "\u001b[0;32m/usr/local/lib/python3.6/dist-packages/tensorflow/python/eager/function.py\u001b[0m in \u001b[0;36m_call_flat\u001b[0;34m(self, args, captured_inputs, cancellation_manager)\u001b[0m\n\u001b[1;32m   1922\u001b[0m       \u001b[0;31m# No tape is watching; skip to running the function.\u001b[0m\u001b[0;34m\u001b[0m\u001b[0;34m\u001b[0m\u001b[0;34m\u001b[0m\u001b[0m\n\u001b[1;32m   1923\u001b[0m       return self._build_call_outputs(self._inference_function.call(\n\u001b[0;32m-> 1924\u001b[0;31m           ctx, args, cancellation_manager=cancellation_manager))\n\u001b[0m\u001b[1;32m   1925\u001b[0m     forward_backward = self._select_forward_and_backward_functions(\n\u001b[1;32m   1926\u001b[0m         \u001b[0margs\u001b[0m\u001b[0;34m,\u001b[0m\u001b[0;34m\u001b[0m\u001b[0;34m\u001b[0m\u001b[0m\n",
            "\u001b[0;32m/usr/local/lib/python3.6/dist-packages/tensorflow/python/eager/function.py\u001b[0m in \u001b[0;36mcall\u001b[0;34m(self, ctx, args, cancellation_manager)\u001b[0m\n\u001b[1;32m    548\u001b[0m               \u001b[0minputs\u001b[0m\u001b[0;34m=\u001b[0m\u001b[0margs\u001b[0m\u001b[0;34m,\u001b[0m\u001b[0;34m\u001b[0m\u001b[0;34m\u001b[0m\u001b[0m\n\u001b[1;32m    549\u001b[0m               \u001b[0mattrs\u001b[0m\u001b[0;34m=\u001b[0m\u001b[0mattrs\u001b[0m\u001b[0;34m,\u001b[0m\u001b[0;34m\u001b[0m\u001b[0;34m\u001b[0m\u001b[0m\n\u001b[0;32m--> 550\u001b[0;31m               ctx=ctx)\n\u001b[0m\u001b[1;32m    551\u001b[0m         \u001b[0;32melse\u001b[0m\u001b[0;34m:\u001b[0m\u001b[0;34m\u001b[0m\u001b[0;34m\u001b[0m\u001b[0m\n\u001b[1;32m    552\u001b[0m           outputs = execute.execute_with_cancellation(\n",
            "\u001b[0;32m/usr/local/lib/python3.6/dist-packages/tensorflow/python/eager/execute.py\u001b[0m in \u001b[0;36mquick_execute\u001b[0;34m(op_name, num_outputs, inputs, attrs, ctx, name)\u001b[0m\n\u001b[1;32m     58\u001b[0m     \u001b[0mctx\u001b[0m\u001b[0;34m.\u001b[0m\u001b[0mensure_initialized\u001b[0m\u001b[0;34m(\u001b[0m\u001b[0;34m)\u001b[0m\u001b[0;34m\u001b[0m\u001b[0;34m\u001b[0m\u001b[0m\n\u001b[1;32m     59\u001b[0m     tensors = pywrap_tfe.TFE_Py_Execute(ctx._handle, device_name, op_name,\n\u001b[0;32m---> 60\u001b[0;31m                                         inputs, attrs, num_outputs)\n\u001b[0m\u001b[1;32m     61\u001b[0m   \u001b[0;32mexcept\u001b[0m \u001b[0mcore\u001b[0m\u001b[0;34m.\u001b[0m\u001b[0m_NotOkStatusException\u001b[0m \u001b[0;32mas\u001b[0m \u001b[0me\u001b[0m\u001b[0;34m:\u001b[0m\u001b[0;34m\u001b[0m\u001b[0;34m\u001b[0m\u001b[0m\n\u001b[1;32m     62\u001b[0m     \u001b[0;32mif\u001b[0m \u001b[0mname\u001b[0m \u001b[0;32mis\u001b[0m \u001b[0;32mnot\u001b[0m \u001b[0;32mNone\u001b[0m\u001b[0;34m:\u001b[0m\u001b[0;34m\u001b[0m\u001b[0;34m\u001b[0m\u001b[0m\n",
            "\u001b[0;31mInvalidArgumentError\u001b[0m:  logits and labels must have the same first dimension, got logits shape [32,10] and labels shape [320]\n\t [[node sparse_categorical_crossentropy/SparseSoftmaxCrossEntropyWithLogits/SparseSoftmaxCrossEntropyWithLogits (defined at <ipython-input-85-e743fa934cf5>:1) ]] [Op:__inference_test_function_503826]\n\nFunction call stack:\ntest_function\n"
          ]
        }
      ]
    },
    {
      "cell_type": "markdown",
      "metadata": {
        "id": "UZFmGFBX8uD2"
      },
      "source": [
        "Congratulations! You have learned about the basics of the Tensorflow package, which is a powerful tool for machine learning. There are tons of on-line resources about Tensorflow. You are encouraged to check them out when you have time."
      ]
    },
    {
      "cell_type": "markdown",
      "metadata": {
        "id": "XrdjfUvA8uD2"
      },
      "source": [
        "---\n",
        "### Assignment wrap-up\n",
        "\n",
        "Please fill out the form that appears when you run the code below.  **You must completely fill this out in order to receive credit for the assignment!**"
      ]
    },
    {
      "cell_type": "code",
      "metadata": {
        "colab": {
          "base_uri": "https://localhost:8080/",
          "height": 621
        },
        "id": "2-U1EpQL8uD2",
        "outputId": "97633738-97af-42c1-801e-c427d17e14f2"
      },
      "source": [
        "from IPython.display import HTML\n",
        "HTML(\n",
        "\"\"\"\n",
        "<iframe \n",
        "\tsrc=\"https://docs.google.com/forms/d/e/1FAIpQLSf_RV7__hgMU1AEQXzWmKFZPMu_BmOppmTNA-rPkh3hQ40czA/viewform?usp=sf_link\" \n",
        "\twidth=\"800px\" \n",
        "\theight=\"600px\" \n",
        "\tframeborder=\"0\" \n",
        "\tmarginheight=\"0\" \n",
        "\tmarginwidth=\"0\">\n",
        "\tLoading...\n",
        "</iframe>\n",
        "\"\"\"\n",
        ")"
      ],
      "execution_count": 70,
      "outputs": [
        {
          "output_type": "execute_result",
          "data": {
            "text/html": [
              "\n",
              "<iframe \n",
              "\tsrc=\"https://docs.google.com/forms/d/e/1FAIpQLSf_RV7__hgMU1AEQXzWmKFZPMu_BmOppmTNA-rPkh3hQ40czA/viewform?usp=sf_link\" \n",
              "\twidth=\"800px\" \n",
              "\theight=\"600px\" \n",
              "\tframeborder=\"0\" \n",
              "\tmarginheight=\"0\" \n",
              "\tmarginwidth=\"0\">\n",
              "\tLoading...\n",
              "</iframe>\n"
            ],
            "text/plain": [
              "<IPython.core.display.HTML object>"
            ]
          },
          "metadata": {
            "tags": []
          },
          "execution_count": 70
        }
      ]
    },
    {
      "cell_type": "markdown",
      "metadata": {
        "id": "zF38ciN48uD2"
      },
      "source": [
        "### Congratulations, you're done!\n",
        "\n",
        "Submit this assignment by uploading it to the course Desire2Learn web page.  Go to the \"Homework Assignments\" folder, find the dropbox link for Homework #5, and upload your notebook **and the script you wrote**."
      ]
    },
    {
      "cell_type": "code",
      "metadata": {
        "id": "t0nDM_9U8uD2"
      },
      "source": [
        ""
      ],
      "execution_count": 70,
      "outputs": []
    }
  ]
}